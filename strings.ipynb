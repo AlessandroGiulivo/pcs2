{
 "cells": [
  {
   "cell_type": "markdown",
   "metadata": {},
   "source": [
    "# Bioinformatics\n",
    "### Principles of Computer Science II\n",
    "#### Alessandro Giulivo\n",
    "#### Student Number: 1906520\n",
    "#### First Assignement: HackerRank Challenges\n",
    "#### Strings"
   ]
  },
  {
   "cell_type": "code",
   "execution_count": null,
   "metadata": {},
   "outputs": [],
   "source": [
    "# 1) sWAP cASE\n",
    "def swap_case(s):\n",
    "    S = s.swapcase()\n",
    "    return(S)\n",
    "\n",
    "if __name__ == '__main__':\n",
    "    s = input()\n",
    "    result = swap_case(s)\n",
    "    print(result)"
   ]
  },
  {
   "cell_type": "code",
   "execution_count": null,
   "metadata": {},
   "outputs": [],
   "source": [
    "# 2) String Split and Join\n",
    "def split_and_join(line):\n",
    "    line = line.split()\n",
    "    line = \"-\".join(line)\n",
    "    return(line)\n",
    "\n",
    "if __name__ == '__main__':\n",
    "    line = input()\n",
    "    result = split_and_join(line)\n",
    "    print(result)"
   ]
  },
  {
   "cell_type": "code",
   "execution_count": null,
   "metadata": {},
   "outputs": [],
   "source": [
    "# 3) What's Your Name?\n",
    "def print_full_name(a, b):\n",
    "    print('Hello ' + a + ' ' + b + '! You just delved into python.')\n",
    "\n",
    "if __name__ == '__main__':\n",
    "    first_name = input()\n",
    "    last_name = input()\n",
    "    print_full_name(first_name, last_name)"
   ]
  },
  {
   "cell_type": "code",
   "execution_count": null,
   "metadata": {},
   "outputs": [],
   "source": [
    "# 4) Mutations\n",
    "def mutate_string(string, position, character):\n",
    "    l = list(string)\n",
    "    l[position] = character\n",
    "    s = ''.join(l)\n",
    "    return(s)\n",
    "\n",
    "if __name__ == '__main__':\n",
    "    s = input()\n",
    "    i, c = input().split()\n",
    "    s_new = mutate_string(s, int(i), c)\n",
    "    print(s_new)"
   ]
  },
  {
   "cell_type": "code",
   "execution_count": null,
   "metadata": {},
   "outputs": [],
   "source": [
    "# 5) Find a String\n",
    "def count_substring(string, sub_string):\n",
    "    count = 0\n",
    "    for i in range(len(string)):\n",
    "        if string[i : i + len(sub_string)] == sub_string:\n",
    "            count = count + 1\n",
    "    return(count)\n",
    "\n",
    "if __name__ == '__main__':\n",
    "    string = input().strip()\n",
    "    sub_string = input().strip()\n",
    "    \n",
    "    count = count_substring(string, sub_string)\n",
    "    print(count)"
   ]
  },
  {
   "cell_type": "code",
   "execution_count": null,
   "metadata": {},
   "outputs": [],
   "source": [
    "# 6) String Validators\n",
    "if __name__ == '__main__':\n",
    "    s = input()\n",
    "    alnum = False\n",
    "    alpha = False\n",
    "    digit = False\n",
    "    lower = False\n",
    "    upper = False\n",
    "    for c in s:\n",
    "        if c.isalnum():\n",
    "            alnum = True\n",
    "        if c.isalpha():\n",
    "            alpha = True\n",
    "        if c.isdigit():\n",
    "            digit = True\n",
    "        if c.islower():\n",
    "            lower = True\n",
    "        if c.isupper():\n",
    "            upper = True\n",
    "        else: None\n",
    "    print(alnum)\n",
    "    print(alpha)\n",
    "    print(digit)\n",
    "    print(lower)\n",
    "    print(upper)"
   ]
  },
  {
   "cell_type": "code",
   "execution_count": null,
   "metadata": {},
   "outputs": [],
   "source": [
    "# 7) Text Wrap\n",
    "import textwrap\n",
    "\n",
    "def wrap(string, max_width):\n",
    "    l = []\n",
    "    for i in range(0, len(string), max_width):\n",
    "        l.append(string[i : i + max_width])\n",
    "    s = '\\n'.join(l)\n",
    "    return s\n",
    "\n",
    "if __name__ == '__main__':\n",
    "    string, max_width = input(), int(input())\n",
    "    result = wrap(string, max_width)\n",
    "    print(result)"
   ]
  },
  {
   "cell_type": "code",
   "execution_count": null,
   "metadata": {},
   "outputs": [],
   "source": [
    "# 8) Text Alignement\n",
    "thickness = int(raw_input()) #This must be an odd number\n",
    "c = 'H'\n",
    "#Top Cone\n",
    "for i in range(thickness):\n",
    "    print (c*i).rjust(thickness-1)+c+(c*i).ljust(thickness-1)\n",
    "#Top Pillars\n",
    "for i in range(thickness+1):\n",
    "    print (c*thickness).center(thickness*2)+(c*thickness).center(thickness*6)\n",
    "#Middle Belt\n",
    "for i in range((thickness+1)/2):\n",
    "    print (c*thickness*5).center(thickness*6)    \n",
    "#Bottom Pillars\n",
    "for i in range(thickness+1):\n",
    "    print (c*thickness).center(thickness*2)+(c*thickness).center(thickness*6)    \n",
    "#Bottom Cone\n",
    "for i in range(thickness):\n",
    "    print ((c*(thickness-i-1)).rjust(thickness)+c+(c*(thickness-i-1)).ljust(thickness)).rjust(thickness*6)"
   ]
  },
  {
   "cell_type": "code",
   "execution_count": null,
   "metadata": {},
   "outputs": [],
   "source": [
    "# 9) Designer Door Mat\n",
    "NM = list(input().split())\n",
    "N = int(NM[0])\n",
    "M = int(NM[1])\n",
    "for n in range(N):\n",
    "    if n == int(N / 2):\n",
    "        print('WELCOME'.center(M, '-'))\n",
    "    elif n < int(N / 2):\n",
    "        print(('.|.' * (2*n + 1)).center(M, '-'))\n",
    "    elif n > int(N / 2):\n",
    "        print(('.|.' * (2*(N-1-n)+1)).center(M, '-'))"
   ]
  },
  {
   "cell_type": "code",
   "execution_count": null,
   "metadata": {},
   "outputs": [],
   "source": [
    "# 10) String Formatting\n",
    "def print_formatted(number):\n",
    "    for n in range(1, number+1):\n",
    "        w = len(str(bin(number+1))[2:])\n",
    "        octal = str(oct(n))[2:]\n",
    "        hexadecimal = str(hex(n))[2:]\n",
    "        binary = str(bin(n))[2:]\n",
    "        print((str(n)).rjust(w), (octal).rjust(w), (hexadecimal.upper()).rjust(w), (binary).rjust(w))\n",
    " \n",
    "if __name__ == '__main__':\n",
    "    n = int(input())\n",
    "    print_formatted(n)"
   ]
  }
 ],
 "metadata": {
  "kernelspec": {
   "display_name": "Python 3",
   "language": "python",
   "name": "python3"
  },
  "language_info": {
   "codemirror_mode": {
    "name": "ipython",
    "version": 3
   },
   "file_extension": ".py",
   "mimetype": "text/x-python",
   "name": "python",
   "nbconvert_exporter": "python",
   "pygments_lexer": "ipython3",
   "version": "3.8.3"
  }
 },
 "nbformat": 4,
 "nbformat_minor": 4
}
