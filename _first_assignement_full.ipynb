{
 "cells": [
  {
   "cell_type": "markdown",
   "metadata": {},
   "source": [
    "# Bioinformatics\n",
    "# Principles of Computer Science II\n",
    "## Alessandro Giulivo\n",
    "### Student Number: 1906520\n",
    "### First Assignement: HackerRank"
   ]
  },
  {
   "cell_type": "markdown",
   "metadata": {},
   "source": [
    "Basic Data Types (6)"
   ]
  },
  {
   "cell_type": "code",
   "execution_count": null,
   "metadata": {},
   "outputs": [],
   "source": [
    "# 1) List Comprehensions\n",
    "if __name__ == '__main__':\n",
    "    x = int(raw_input())\n",
    "    y = int(raw_input())\n",
    "    z = int(raw_input())\n",
    "    n = int(raw_input())\n",
    "    l = []\n",
    "    for i in range(x+1):\n",
    "        for j in range(y+1):\n",
    "            for k in range(z+1):\n",
    "                if i+j+k != n:\n",
    "                    l.append([i, j, k])\n",
    "    print l"
   ]
  },
  {
   "cell_type": "code",
   "execution_count": null,
   "metadata": {},
   "outputs": [],
   "source": [
    "# 2) Find the Runner-Up Score\n",
    "if __name__ == '__main__':\n",
    "    n = int(raw_input())\n",
    "    arr = map(int, raw_input().split())\n",
    "    print(sorted(set(arr))[-2])"
   ]
  },
  {
   "cell_type": "code",
   "execution_count": null,
   "metadata": {},
   "outputs": [],
   "source": [
    "# 3) Finding the Percentage\n",
    "if __name__ == '__main__':\n",
    "    n = int(input())\n",
    "    student_marks = {}\n",
    "    for _ in range(n):\n",
    "        name, line = input().split()\n",
    "        scores = list(map(float, line))\n",
    "        student_marks[name] = scores\n",
    "    query_name = input()\n",
    "    print('{:.2f}'.format(sum(student_marks[query_name]) / len(student_marks[query_name]), 2))"
   ]
  },
  {
   "cell_type": "code",
   "execution_count": null,
   "metadata": {},
   "outputs": [],
   "source": [
    "# 4) Nested Lists\n",
    "if __name__ == '__main__':\n",
    "    nested_list = []\n",
    "    scores_list = []\n",
    "    for _ in range(int(input())):\n",
    "        name = input()\n",
    "        score = float(input())\n",
    "        nested_list.append([name, score])\n",
    "        scores_list.append(score)\n",
    "    mark = (sorted(set(scores_list)))[1]\n",
    "    names = []\n",
    "    for e in nested_list:\n",
    "        if mark in e:\n",
    "            names.append(e[0])\n",
    "    names = sorted(names)\n",
    "    print('\\n'.join(names))"
   ]
  },
  {
   "cell_type": "code",
   "execution_count": null,
   "metadata": {},
   "outputs": [],
   "source": [
    "# 5) Lists\n",
    "if __name__ == '__main__':\n",
    "    N = int(input())\n",
    "    lst = []\n",
    "    import fileinput\n",
    "    for l in fileinput.input():\n",
    "        line = l.split(' ')\n",
    "        if line[0] == 'insert':\n",
    "            lst.insert(int(line[1]), int(line[2]))\n",
    "        if 'print' in l:\n",
    "            print(lst)\n",
    "        if line[0] == 'remove':\n",
    "            lst.remove(int(line[1]))\n",
    "        if line[0] ==  'append':\n",
    "            lst.append(int(line[1]))\n",
    "        if 'sort' in l:\n",
    "            lst = sorted(lst)\n",
    "        if 'pop' in l:\n",
    "            lst.pop()\n",
    "        if 'reverse' in l:\n",
    "            lst.reverse()"
   ]
  },
  {
   "cell_type": "code",
   "execution_count": null,
   "metadata": {},
   "outputs": [],
   "source": [
    "# 6) Tuples\n",
    "if __name__ == '__main__':\n",
    "    n = int(input())\n",
    "    integer_list = map(int, input().split())\n",
    "    t = tuple(integer_list)\n",
    "    print(hash(t))"
   ]
  },
  {
   "cell_type": "markdown",
   "metadata": {},
   "source": [
    "Strings (10)"
   ]
  },
  {
   "cell_type": "code",
   "execution_count": null,
   "metadata": {},
   "outputs": [],
   "source": [
    "# 1) sWAP cASE\n",
    "def swap_case(s):\n",
    "    S = s.swapcase()\n",
    "    return(S)\n",
    "\n",
    "if __name__ == '__main__':\n",
    "    s = input()\n",
    "    result = swap_case(s)\n",
    "    print(result)"
   ]
  },
  {
   "cell_type": "code",
   "execution_count": null,
   "metadata": {},
   "outputs": [],
   "source": [
    "# 2) String Split and Join\n",
    "def split_and_join(line):\n",
    "    line = line.split()\n",
    "    line = \"-\".join(line)\n",
    "    return(line)\n",
    "\n",
    "if __name__ == '__main__':\n",
    "    line = input()\n",
    "    result = split_and_join(line)\n",
    "    print(result)"
   ]
  },
  {
   "cell_type": "code",
   "execution_count": null,
   "metadata": {},
   "outputs": [],
   "source": [
    "# 3) What's Your Name?\n",
    "def print_full_name(a, b):\n",
    "    print('Hello ' + a + ' ' + b + '! You just delved into python.')\n",
    "\n",
    "if __name__ == '__main__':\n",
    "    first_name = input()\n",
    "    last_name = input()\n",
    "    print_full_name(first_name, last_name)"
   ]
  },
  {
   "cell_type": "code",
   "execution_count": null,
   "metadata": {},
   "outputs": [],
   "source": [
    "# 4) Mutations\n",
    "def mutate_string(string, position, character):\n",
    "    l = list(string)\n",
    "    l[position] = character\n",
    "    s = ''.join(l)\n",
    "    return(s)\n",
    "\n",
    "if __name__ == '__main__':\n",
    "    s = input()\n",
    "    i, c = input().split()\n",
    "    s_new = mutate_string(s, int(i), c)\n",
    "    print(s_new)"
   ]
  },
  {
   "cell_type": "code",
   "execution_count": null,
   "metadata": {},
   "outputs": [],
   "source": [
    "# 5) Find a String\n",
    "def count_substring(string, sub_string):\n",
    "    count = 0\n",
    "    for i in range(len(string)):\n",
    "        if string[i : i + len(sub_string)] == sub_string:\n",
    "            count = count + 1\n",
    "    return(count)\n",
    "\n",
    "if __name__ == '__main__':\n",
    "    string = input().strip()\n",
    "    sub_string = input().strip()\n",
    "    \n",
    "    count = count_substring(string, sub_string)\n",
    "    print(count)"
   ]
  },
  {
   "cell_type": "code",
   "execution_count": null,
   "metadata": {},
   "outputs": [],
   "source": [
    "# 6) String Validators\n",
    "if __name__ == '__main__':\n",
    "    s = input()\n",
    "    alnum = False\n",
    "    alpha = False\n",
    "    digit = False\n",
    "    lower = False\n",
    "    upper = False\n",
    "    for c in s:\n",
    "        if c.isalnum():\n",
    "            alnum = True\n",
    "        if c.isalpha():\n",
    "            alpha = True\n",
    "        if c.isdigit():\n",
    "            digit = True\n",
    "        if c.islower():\n",
    "            lower = True\n",
    "        if c.isupper():\n",
    "            upper = True\n",
    "        else: None\n",
    "    print(alnum)\n",
    "    print(alpha)\n",
    "    print(digit)\n",
    "    print(lower)\n",
    "    print(upper)"
   ]
  },
  {
   "cell_type": "code",
   "execution_count": null,
   "metadata": {},
   "outputs": [],
   "source": [
    "# 7) Text Wrap\n",
    "import textwrap\n",
    "\n",
    "def wrap(string, max_width):\n",
    "    l = []\n",
    "    for i in range(0, len(string), max_width):\n",
    "        l.append(string[i : i + max_width])\n",
    "    s = '\\n'.join(l)\n",
    "    return s\n",
    "\n",
    "if __name__ == '__main__':\n",
    "    string, max_width = input(), int(input())\n",
    "    result = wrap(string, max_width)\n",
    "    print(result)"
   ]
  },
  {
   "cell_type": "code",
   "execution_count": null,
   "metadata": {},
   "outputs": [],
   "source": [
    "# 8) Text Alignement\n",
    "thickness = int(raw_input()) #This must be an odd number\n",
    "c = 'H'\n",
    "#Top Cone\n",
    "for i in range(thickness):\n",
    "    print (c*i).rjust(thickness-1)+c+(c*i).ljust(thickness-1)\n",
    "#Top Pillars\n",
    "for i in range(thickness+1):\n",
    "    print (c*thickness).center(thickness*2)+(c*thickness).center(thickness*6)\n",
    "#Middle Belt\n",
    "for i in range((thickness+1)/2):\n",
    "    print (c*thickness*5).center(thickness*6)    \n",
    "#Bottom Pillars\n",
    "for i in range(thickness+1):\n",
    "    print (c*thickness).center(thickness*2)+(c*thickness).center(thickness*6)    \n",
    "#Bottom Cone\n",
    "for i in range(thickness):\n",
    "    print ((c*(thickness-i-1)).rjust(thickness)+c+(c*(thickness-i-1)).ljust(thickness)).rjust(thickness*6)"
   ]
  },
  {
   "cell_type": "code",
   "execution_count": null,
   "metadata": {},
   "outputs": [],
   "source": [
    "# 9) Designer Door Mat\n",
    "NM = list(input().split())\n",
    "N = int(NM[0])\n",
    "M = int(NM[1])\n",
    "for n in range(N):\n",
    "    if n == int(N / 2):\n",
    "        print('WELCOME'.center(M, '-'))\n",
    "    elif n < int(N / 2):\n",
    "        print(('.|.' * (2*n + 1)).center(M, '-'))\n",
    "    elif n > int(N / 2):\n",
    "        print(('.|.' * (2*(N-1-n)+1)).center(M, '-'))\n"
   ]
  },
  {
   "cell_type": "code",
   "execution_count": null,
   "metadata": {},
   "outputs": [],
   "source": [
    "# 10) String Formatting\n",
    "def print_formatted(number):\n",
    "    for n in range(1, number+1):\n",
    "        w = len(str(bin(number+1))[2:])\n",
    "        octal = str(oct(n))[2:]\n",
    "        hexadecimal = str(hex(n))[2:]\n",
    "        binary = str(bin(n))[2:]\n",
    "        print((str(n)).rjust(w), (octal).rjust(w), (hexadecimal.upper()).rjust(w), (binary).rjust(w))\n",
    " \n",
    "if __name__ == '__main__':\n",
    "    n = int(input())\n",
    "    print_formatted(n)"
   ]
  },
  {
   "cell_type": "markdown",
   "metadata": {},
   "source": [
    "\n",
    "Sets (13)"
   ]
  },
  {
   "cell_type": "code",
   "execution_count": null,
   "metadata": {},
   "outputs": [],
   "source": [
    "# 1) Introduction to Sets\n",
    "from __future__ import division\n",
    "\n",
    "def average(array):\n",
    "    st = set(array)\n",
    "    avg = sum(st)/len(st)\n",
    "    return avg\n",
    "\n",
    "if __name__ == '__main__':\n",
    "    n = int(raw_input())\n",
    "    arr = map(int, raw_input().split())\n",
    "    result = average(arr)\n",
    "    print result"
   ]
  },
  {
   "cell_type": "code",
   "execution_count": null,
   "metadata": {},
   "outputs": [],
   "source": [
    "# 2) Symmetric Difference\n",
    "M = int(input())\n",
    "Ms = set(map(int, input().split()))\n",
    "N = int(input())\n",
    "Ns = set(map(int, input().split()))\n",
    "res = Ms.union(Ns)\n",
    "for e in Ms.intersection(Ns):\n",
    "    res.remove(e)\n",
    "for c in sorted(res):\n",
    "    print(c)"
   ]
  },
  {
   "cell_type": "code",
   "execution_count": null,
   "metadata": {},
   "outputs": [],
   "source": [
    "# 3) Set .add()\n",
    "N = int(input())\n",
    "country_set = set()\n",
    "for l in range(N):\n",
    "    country_set.add(input())\n",
    "print(len(country_set))"
   ]
  },
  {
   "cell_type": "code",
   "execution_count": null,
   "metadata": {},
   "outputs": [],
   "source": [
    "# 4) Set .discard(), .remove() & .pop()\n",
    "n = int(input())\n",
    "s = set(map(int, input().split()))\n",
    "num = int(input())\n",
    "for l in range(num):\n",
    "    line = input().split()\n",
    "    if 'pop' in line and len(s)>0:\n",
    "        s.pop()\n",
    "    if 'remove' in line:\n",
    "        s.remove(int(line[1]))\n",
    "    if 'discard' in line:\n",
    "        s.discard(int(line[1]))\n",
    "print(sum(s))"
   ]
  },
  {
   "cell_type": "code",
   "execution_count": null,
   "metadata": {},
   "outputs": [],
   "source": [
    "# 5) Set .union()\n",
    "n = int(input())\n",
    "nset = set(input().split())\n",
    "b = int(input())\n",
    "bset = set(input().split())\n",
    "print(len(nset.union(bset)))"
   ]
  },
  {
   "cell_type": "code",
   "execution_count": null,
   "metadata": {},
   "outputs": [],
   "source": [
    "# 6) Set .intersection()\n",
    "n = int(input())\n",
    "nset = set(input().split())\n",
    "b = int(input())\n",
    "bset = set(input().split())\n",
    "print(len(nset.intersection(bset)))"
   ]
  },
  {
   "cell_type": "code",
   "execution_count": null,
   "metadata": {},
   "outputs": [],
   "source": [
    "# 7) Set .difference()\n",
    "n = int(input())\n",
    "nset = set(input().split())\n",
    "b = int(input())\n",
    "bset = set(input().split())\n",
    "print(len(nset.difference(bset)))"
   ]
  },
  {
   "cell_type": "code",
   "execution_count": null,
   "metadata": {},
   "outputs": [],
   "source": [
    "# 8) Set .symmetric_difference()\n",
    "n = int(input())\n",
    "nset = set(input().split())\n",
    "b = int(input())\n",
    "bset = set(input().split())\n",
    "print(len(nset.symmetric_difference(bset)))"
   ]
  },
  {
   "cell_type": "code",
   "execution_count": null,
   "metadata": {},
   "outputs": [],
   "source": [
    "# 9) Set Mutations\n",
    "num = int(input())\n",
    "A = set(input().split())\n",
    "N = int(input())\n",
    "lines = []\n",
    "for line in range(2*N):\n",
    "    line = set(input().split())\n",
    "    lines.append(line)\n",
    "for i in range(len(lines)):\n",
    "    if 'update' in lines[i]:\n",
    "        A.update(lines[i+1])\n",
    "    if 'intersection_update' in lines[i]:\n",
    "        A.intersection_update(lines[i+1])\n",
    "    if 'difference_update' in lines[i]:\n",
    "        A.difference_update(lines[i+1])\n",
    "    if 'symmetric_difference_update' in lines[i]:\n",
    "        A.symmetric_difference_update(lines[i+1])\n",
    "print(sum(map(int, A)))"
   ]
  },
  {
   "cell_type": "code",
   "execution_count": null,
   "metadata": {},
   "outputs": [],
   "source": [
    "# 10) The Captain's Room\n",
    "K = int(input())\n",
    "room_lst = list(map(int, (input().split())))\n",
    "s1 = set()\n",
    "s2 = set()\n",
    "for e in room_lst:\n",
    "    if e not in s1:\n",
    "        s1.add(e)\n",
    "    else:\n",
    "        s2.add(e)\n",
    "print(*s1.difference(s2))"
   ]
  },
  {
   "cell_type": "code",
   "execution_count": null,
   "metadata": {},
   "outputs": [],
   "source": [
    "# 11) Check Subset\n",
    "T = int(input())\n",
    "for i in range(T):\n",
    "    lines = []\n",
    "    for i in range(4):\n",
    "        lines.append(set(input().split()))\n",
    "    if len(lines[1].difference(lines[3])) == 0:\n",
    "        print(True)\n",
    "    else:\n",
    "        print(False)"
   ]
  },
  {
   "cell_type": "code",
   "execution_count": null,
   "metadata": {},
   "outputs": [],
   "source": [
    "# 12) Check Strict Superset\n",
    "A = set(input().split())\n",
    "N = int(input())\n",
    "sets = []\n",
    "r = True\n",
    "for i in range(N):\n",
    "    sets.append(set(input().split()))\n",
    "for s in sets:\n",
    "    if not (len(s.difference(A)) == 0 and len(A.difference(s))) > 0:\n",
    "        r = False\n",
    "    else:\n",
    "        None\n",
    "print(r)"
   ]
  },
  {
   "cell_type": "code",
   "execution_count": null,
   "metadata": {},
   "outputs": [],
   "source": [
    "# 13) No Idea!\n",
    "nums = set(input().split())\n",
    "arr = list(input().split())\n",
    "A = set(input().split())\n",
    "B = set(input().split())\n",
    "h = 0\n",
    "for e in arr:\n",
    "    if e in A:\n",
    "        h += 1\n",
    "    if e in B:\n",
    "        h -= 1\n",
    "    else: None\n",
    "print(h)"
   ]
  },
  {
   "cell_type": "markdown",
   "metadata": {},
   "source": [
    "Math (7)"
   ]
  },
  {
   "cell_type": "code",
   "execution_count": null,
   "metadata": {},
   "outputs": [],
   "source": [
    "# 1) Polar Coordinates\n",
    "import cmath\n",
    "z = complex(input())\n",
    "print(cmath.polar(z)[0])\n",
    "print(cmath.polar(z)[1])"
   ]
  },
  {
   "cell_type": "code",
   "execution_count": null,
   "metadata": {},
   "outputs": [],
   "source": [
    "# 2) Find Angle MBC\n",
    "AB = int(input())\n",
    "BC = int(input())\n",
    "import math\n",
    "print(str(round(math.degrees(math.atan2(AB, BC)))) + \"°\")"
   ]
  },
  {
   "cell_type": "code",
   "execution_count": null,
   "metadata": {},
   "outputs": [],
   "source": [
    "# 3) Triangle Quest 2\n",
    "for i in range(1,int(input())+1):\n",
    "    print(int(10**i/9)**2)"
   ]
  },
  {
   "cell_type": "code",
   "execution_count": null,
   "metadata": {},
   "outputs": [],
   "source": [
    "# 4) Mod Divmod\n",
    "a = int(input())\n",
    "b = int(input())\n",
    "print(a//b)\n",
    "print(a%b)\n",
    "print(divmod(a,b))"
   ]
  },
  {
   "cell_type": "code",
   "execution_count": null,
   "metadata": {},
   "outputs": [],
   "source": [
    "# 5) Power - Mod Power\n",
    "a = int(input())\n",
    "b = int(input())\n",
    "m = int(input())\n",
    "print(pow(a, b))\n",
    "print(pow(a, b, m))"
   ]
  },
  {
   "cell_type": "code",
   "execution_count": null,
   "metadata": {},
   "outputs": [],
   "source": [
    "# 6) Integers Come In All Sizes\n",
    "a = int(input())\n",
    "b = int(input())\n",
    "c = int(input())\n",
    "d = int(input())\n",
    "print(pow(a, b) + pow(c, d))"
   ]
  },
  {
   "cell_type": "code",
   "execution_count": null,
   "metadata": {},
   "outputs": [],
   "source": [
    "# 7) Triangle Quest\n",
    "for i in range(1,int(input())):\n",
    "    print(int(10**(i)/9)*i)"
   ]
  },
  {
   "cell_type": "markdown",
   "metadata": {},
   "source": [
    "IterTools (6)"
   ]
  },
  {
   "cell_type": "code",
   "execution_count": null,
   "metadata": {},
   "outputs": [],
   "source": [
    "# 1) itertools.product()\n",
    "from itertools import product\n",
    "import sys\n",
    "inp = []\n",
    "for line in sys.stdin.readlines():\n",
    "    l = []\n",
    "    for c in line.split():\n",
    "            l.append(int(c))\n",
    "    inp.append(l)\n",
    "print(*list(product(inp[0], inp[1])))"
   ]
  },
  {
   "cell_type": "code",
   "execution_count": null,
   "metadata": {},
   "outputs": [],
   "source": [
    "# 2) itertools.permutations()\n",
    "from itertools import permutations\n",
    "import sys\n",
    "for e in sys.stdin:\n",
    "    inp = e.split(' ')\n",
    "for i in list(permutations(sorted(inp[0]), int(inp[1]))):\n",
    "    print(''.join(i))"
   ]
  },
  {
   "cell_type": "code",
   "execution_count": null,
   "metadata": {},
   "outputs": [],
   "source": [
    "# 3) itertools.combinations()\n",
    "from itertools import combinations\n",
    "import sys\n",
    "for e in sys.stdin:\n",
    "    inp = e.split(' ')\n",
    "for k in range(int(inp[1])+1):\n",
    "    for i in list(combinations(sorted(inp[0]), k)):\n",
    "        if len(i)>0:\n",
    "            print(''.join(i))"
   ]
  },
  {
   "cell_type": "code",
   "execution_count": null,
   "metadata": {},
   "outputs": [],
   "source": [
    "# 4) itertools.combinations_with_replacement()\n",
    "from itertools import combinations_with_replacement\n",
    "import sys\n",
    "for e in sys.stdin:\n",
    "    inp = e.split(' ')\n",
    "for i in list(combinations_with_replacement(sorted(inp[0]), int(inp[1]))):\n",
    "    print(''.join(i))"
   ]
  },
  {
   "cell_type": "code",
   "execution_count": null,
   "metadata": {},
   "outputs": [],
   "source": [
    "# 5) Compress the String!\n",
    "from itertools import groupby\n",
    "import sys\n",
    "line = sys.stdin.read()\n",
    "l = []\n",
    "for k, g in groupby(line):\n",
    "    l.append(tuple([len(list(g)), int(k)]))\n",
    "print(*l)"
   ]
  },
  {
   "cell_type": "code",
   "execution_count": null,
   "metadata": {},
   "outputs": [],
   "source": [
    "# 6) Iterables and Iterators\n",
    "from itertools import combinations\n",
    "\n",
    "N = int(input())\n",
    "line = input().split()\n",
    "K = int(input())\n",
    "c_l = list(combinations(line ,K))\n",
    "a_c = 0\n",
    "for c in c_l:\n",
    "    if 'a' in c:\n",
    "        a_c += 1\n",
    "print(round(a_c/len(c_l), 3))"
   ]
  },
  {
   "cell_type": "markdown",
   "metadata": {},
   "source": [
    "Collections (8)"
   ]
  },
  {
   "cell_type": "code",
   "execution_count": null,
   "metadata": {},
   "outputs": [],
   "source": [
    "# 1)collections.Counter()\n",
    "X = int(input())\n",
    "size_list = input().split()\n",
    "N = int(input())\n",
    "money = 0\n",
    "for i in range(N):\n",
    "    size, price = map(int, input().split())\n",
    "    if str(size) in size_list:\n",
    "        money += price\n",
    "        size_list.remove(str(size))\n",
    "print(money)"
   ]
  },
  {
   "cell_type": "code",
   "execution_count": null,
   "metadata": {},
   "outputs": [],
   "source": [
    "# 2) DefaultDict Tutorial\n",
    "from collections import defaultdict\n",
    "d = defaultdict(list)\n",
    "n, m = map(int, input().split())\n",
    "for i in range(1, n+1):\n",
    "    d[input()].append(str(i))\n",
    "for j in range(m):\n",
    "    print(' '.join(d[input()]) or -1)"
   ]
  },
  {
   "cell_type": "code",
   "execution_count": null,
   "metadata": {},
   "outputs": [],
   "source": [
    "# 3)Collections .namedtuple()\n",
    "from collections import namedtuple\n",
    "N = int(input())\n",
    "columns = input().split()\n",
    "sum = 0\n",
    "for n in range(N):\n",
    "     students = namedtuple('student', columns)\n",
    "     column1, column2, column3, column4 = input().split()\n",
    "     student = students(column1, column2, column3, column4)\n",
    "     sum += int(student.MARKS)\n",
    "print(sum/N)"
   ]
  },
  {
   "cell_type": "code",
   "execution_count": null,
   "metadata": {},
   "outputs": [],
   "source": [
    "# 4) Collections .ordereddict()\n",
    "from collections import OrderedDict\n",
    "n = int(input())\n",
    "odict = OrderedDict()\n",
    "for i in range(n):\n",
    "    item_price = input().split()\n",
    "    item = ' '.join(item_price[: -1])\n",
    "    price = int(item_price[-1])\n",
    "    if item not in odict:\n",
    "        odict[item] = price\n",
    "    else:\n",
    "        odict[item] += price\n",
    "for item, net_price in odict.items():\n",
    "    print(item, net_price)"
   ]
  },
  {
   "cell_type": "code",
   "execution_count": null,
   "metadata": {},
   "outputs": [],
   "source": [
    "# 5) Word Order\n",
    "from collections import OrderedDict\n",
    "N = int(input())\n",
    "d = OrderedDict()\n",
    "for n in range(N):\n",
    "    word = str(input())\n",
    "    if word not in d:\n",
    "        d[word] = 1\n",
    "    else:\n",
    "        d[word] += 1\n",
    "print(len(d))\n",
    "print(*d.values())"
   ]
  },
  {
   "cell_type": "code",
   "execution_count": null,
   "metadata": {},
   "outputs": [],
   "source": [
    "# 6) Collections .deque()\n",
    "N = int(input())\n",
    "lines = []\n",
    "for line in range(N):\n",
    "    line = list(input().split())\n",
    "    lines.append(line)\n",
    "d = deque()\n",
    "for i in range(len(lines)):\n",
    "    if 'append' in lines[i]:\n",
    "        d.append(int(lines[i][1]))\n",
    "    if 'pop' in lines[i]:\n",
    "        d.pop()\n",
    "    if 'popleft' in lines[i]:\n",
    "        d.popleft()\n",
    "    if 'appendleft' in lines[i]:\n",
    "        d.appendleft(int(lines[i][1]))\n",
    "print(*d)"
   ]
  },
  {
   "cell_type": "code",
   "execution_count": null,
   "metadata": {
    "scrolled": true
   },
   "outputs": [],
   "source": [
    "# 7) Company Logo\n",
    "from collections import OrderedDict\n",
    "d = OrderedDict()\n",
    "l = []\n",
    "logo = sorted(str(input()))\n",
    "for x in logo:\n",
    "    if x not in l:\n",
    "        l.append(x)\n",
    "for c in l:\n",
    "    d[c] = logo.count(c)\n",
    "for key, value in (sorted(d.items(), key = lambda x: x[1], reverse = True))[:3]:\n",
    "    print(key, value)"
   ]
  },
  {
   "cell_type": "code",
   "execution_count": null,
   "metadata": {},
   "outputs": [],
   "source": [
    "# 8) Piling Up!\n",
    "T = int(input())\n",
    "for i in range(T):\n",
    "    n = int(input())\n",
    "    l1 = []\n",
    "    for i in input().split():\n",
    "        l1.append(int(i))\n",
    "    if l1[0] >= l1[-1]:\n",
    "        last = l1[0]\n",
    "        l1.pop(0)\n",
    "    else:\n",
    "        last = l1[-1]\n",
    "        l1.pop(-1)\n",
    "    for x in range(0, len(l1)):\n",
    "        if l1[0] >= l1[-1] and l1[0] <= last:\n",
    "            last = l1[0]\n",
    "            l1.pop(0)\n",
    "        elif l1[0] < l1[-1] and l1[-1] <= last:\n",
    "            last = l1[-1]\n",
    "            l1.pop(-1)\n",
    "        else: None\n",
    "    if len(l1) == 0:\n",
    "        print('Yes')\n",
    "    elif len(l1) > 0:\n",
    "        print('No')"
   ]
  }
 ],
 "metadata": {
  "kernelspec": {
   "display_name": "Python 3",
   "language": "python",
   "name": "python3"
  },
  "language_info": {
   "codemirror_mode": {
    "name": "ipython",
    "version": 3
   },
   "file_extension": ".py",
   "mimetype": "text/x-python",
   "name": "python",
   "nbconvert_exporter": "python",
   "pygments_lexer": "ipython3",
   "version": "3.8.3"
  }
 },
 "nbformat": 4,
 "nbformat_minor": 4
}
