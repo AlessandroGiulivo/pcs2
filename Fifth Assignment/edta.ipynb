{
 "cells": [
  {
   "cell_type": "markdown",
   "metadata": {},
   "source": [
    "## Bioinformatics\n",
    "## Principles of Computer Science II\n",
    "### Alessandro Giulivo\n",
    "### Student Number: 1906520\n",
    "#### Fifth Assignment: Rosalind Problems\n",
    "#### \"Edit Distance Alignment\""
   ]
  },
  {
   "cell_type": "code",
   "execution_count": 1,
   "metadata": {},
   "outputs": [],
   "source": [
    "from Bio import SeqIO"
   ]
  },
  {
   "cell_type": "code",
   "execution_count": 16,
   "metadata": {},
   "outputs": [],
   "source": [
    "def edta(s, t):\n",
    "    s1 = ''\n",
    "    t1 = ''\n",
    "    e_table = [[0 for x in range(len(t)+1)] for x in range(len(s)+1)]\n",
    "    for i in range(len(s) + 1):\n",
    "        for j in range(len(t) + 1):\n",
    "            if i == 0:\n",
    "                e_table[i][j] = j\n",
    "            elif j == 0:\n",
    "                e_table[i][j] = i\n",
    "            elif s[i-1] == t[j-1]:\n",
    "                e_table[i][j] = e_table[i-1][j-1]\n",
    "            else:\n",
    "                e_table[i][j] = 1 + min(e_table[i][j-1], e_table[i-1][j], e_table[i-1][j-1])\n",
    "    print(e_table[-1][-1])\n",
    "    \n",
    "    i = len(e_table)-1\n",
    "    j = len(e_table[0])-1\n",
    "    while i != 0 and j != 0:\n",
    "                if min(e_table[i][j-1], e_table[i-1][j], e_table[i-1][j-1]) == e_table[i-1][j-1]:\n",
    "                    s1 += s[i-1]\n",
    "                    t1 += t[j-1]\n",
    "                    j -= 1\n",
    "                    i -= 1\n",
    "                elif e_table[i][j] == e_table[i - 1][j] + 1:\n",
    "                    s1 += s[i-1]\n",
    "                    t1 += '-'\n",
    "                    i -= 1\n",
    "                else:\n",
    "                    s1 += '-'\n",
    "                    t1 += t[j-1]\n",
    "                    j -= 1\n",
    "    print(s1[::-1])\n",
    "    print(t1[::-1])"
   ]
  },
  {
   "cell_type": "code",
   "execution_count": 17,
   "metadata": {},
   "outputs": [
    {
     "name": "stdout",
     "output_type": "stream",
     "text": [
      "432\n",
      "TYAKQFVWQ--KYVYR-GV-W-----DQHGIITTFLMVTTVHIVEGCVAGCNFVTGSSLSFTVEIVAYGSWFSGFTHWKRRLGMA---SF-TRLPEL-LTVARTGMQYMSEFIIHYTEDLRIDYLILPEPKQRNNGKS--QID-FEFALNIKMHANTCKDWNNVTACCYVQYEPA--IIPNIGVVVVQPDKVDYRYAAEINWWCDQAVRFGMY----K--VITWGVIMTKCFLYLQCKQQMHSTTILCD--VMKMRTYWEVAIMRLNPYRNDMDRTPSQKF-------RIADTAPCLWQPKHKMFLSAYQFKTMMNIMLHNNW---NCIPQIKVREP----GAACPFERAVPSLCNTSCHPLYKAGATLAQ---PSIPGKEYIP-VLTFTL---SFTLWVL-IAWWIQWWDPNTYPANGLEKWGVK---YIWIQEHQMWWSSTWQYWK--ALKP-MFSNM--------WCMWNPWGWSGIWCDFKWLYVQLQEDHNVDWWREARPNPTCSEVHMDMPDSYLHYCICDNCPWNRKEVGIIQQYYGIYGVQKTPWWRKLTPVGWKSERTRVKWTTFPWAF--GVKRIGWYVKCYKGGYMPVNSPAH-CN-APNSWVNLGKGPYNNFTMADMCTPQAIHPTLCCECKYYCNFPKREHPLIAGCHWYQHRPYFFMFHEGY--CG-------HNNVDND--VHEGCQTYQLADCKCVPMHRYTLCVILLCYD---R-LV-S---CFPL-AIEPVHGVQIA--HCTDE-KC---TD-DDYYKTARCPKGWIAETQYGQELY-LEAYMQIHYEENNSKEIKDNVCSDRDMMMECGYNMTVPAQEPKKHA-------QVDHYCTSVMEREDNKFVTRWKWMQC-IIHFAGLDQLNNDMEMMHCCVMMARTFTFECYDSMIWQRKWQDRHSNCRCFQQM--MYIVSQYFRLSQSTIAMGMPFYHEGFGAPRWQGEFSPMFLWCTDHVPQLWIVLDRLCWFWL\n",
      "TYAAYFVWQCQGYVYREGVRWYTRVWDQHGIITTFLMVT-FPSV--HKAGCNFVTG--------IVAYGSWMSGFTHWKRRLPNAIWVHFFTRLPELPRTMARTGMQAMSQF------DLRIDYLIL-EPKQRNQGKSPSEADDFKVAHVIVRQDLHTARIQLECHNSKTWYEPALCDDPWLVAMVVYPDK-------ETNWWCDQAVRFGMYMNVGKKEMITWGVRMTKCFLYLQCKQQMHSPTILCDCGLAGNPTYWEV-IMRLN---N-VDCTPSQKFKLVTVVEDIADTARCLAWPKHKMFLSTYQFKTMVNI-SHVNWKCWNCIPQYKVREPNFSHHASCPFERAV---------WQYKAGATLAQFNYFTESTKEWIPGVFYQELGMLTFTLWVLNQAWKIQW-----YPANGLEKWGVKQEHAVRLDSTQNWGS-TWQSWKEQPLKPTTFSNMSQKVVTYFTCMWNPWGW---HPPYKWVYVQLQEDHNVDWWREQRPNP----PHKDM----LH----WRKP-FQNYVGIIQTYYGIYGVQKTPWWRKLCPVYWDSEATRTKWTTFPWAFIMSVYPHG-VGICYKWEYMPKNSPQHSDNFKPNSIINLGK-PYN---M---CTPQAIHPT-MQE-----------HPLIAICTWYQHRPYFFMFHEGYIFFGNADWMGRVNNVDNDCDAHEGCATYQL---PAASMH----PVILLCYDPLNRRFVESDASCFPLYDIEPVHGVQIAFQYYIVENTCGHMVDLHIDEKCTDDPYYLTGRCQYNQELYEDENSMMIAY---RFWLFSDNVNSDRDMMMECGYNMTVPAQEPKAHAKNPSIWWPVDHYCTSVIE--HMKFVTRGKWMQCGFIHFAGLDQ---------CCVMM-RTFTFECY-QRKW-HMATDRHSNCRCFQQMHQGRLRNVWNWEEFSTIAMGMRFYHEGFGA-R------PMFLNCTDHVPQLWIVLDRLCWFWL\n"
     ]
    }
   ],
   "source": [
    "records = list(SeqIO.parse(\"rosalind_edta.txt\", \"fasta\"))\n",
    "s = records[0].seq\n",
    "t = records[1].seq\n",
    "edta(s, t)"
   ]
  }
 ],
 "metadata": {
  "kernelspec": {
   "display_name": "Python 3",
   "language": "python",
   "name": "python3"
  },
  "language_info": {
   "codemirror_mode": {
    "name": "ipython",
    "version": 3
   },
   "file_extension": ".py",
   "mimetype": "text/x-python",
   "name": "python",
   "nbconvert_exporter": "python",
   "pygments_lexer": "ipython3",
   "version": "3.8.3"
  }
 },
 "nbformat": 4,
 "nbformat_minor": 4
}
