{
 "cells": [
  {
   "cell_type": "markdown",
   "metadata": {},
   "source": [
    "## Bioinformatics\n",
    "## Principles of Computer Science II\n",
    "### Alessandro Giulivo\n",
    "### Student Number: 1906520\n",
    "#### Fifth Assignment: Rosalind Problems\n",
    "#### \"Open Reading Frames\""
   ]
  },
  {
   "cell_type": "code",
   "execution_count": 1,
   "metadata": {},
   "outputs": [],
   "source": [
    "from Bio import SeqIO\n",
    "from Bio.Seq import Seq\n",
    "stop_codons = [\"TGA\", \"TAG\", \"TAA\"]"
   ]
  },
  {
   "cell_type": "code",
   "execution_count": 2,
   "metadata": {},
   "outputs": [],
   "source": [
    "def orf(s, cs):\n",
    "    prots = []\n",
    "    while 'ATG' in s:\n",
    "        s = s[s.find('ATG'):]\n",
    "        for stop in stop_codons:\n",
    "            for j in range(0, len(s), 3):\n",
    "                    if s[j:j+3] == stop:\n",
    "                        orf = s[:j]\n",
    "                        prots.append(orf.translate(to_stop = True))\n",
    "        s = s[1:]\n",
    "    while 'ATG' in cs:\n",
    "        cs = cs[cs.find('ATG'):]\n",
    "        for stop in stop_codons:\n",
    "            for j in range(0, len(cs), 3):\n",
    "                    if cs[j:j+3] == stop:\n",
    "                        orf = cs[:j]\n",
    "                        prots.append(orf.translate(to_stop = True))\n",
    "        cs = cs[1:]\n",
    "    for p in set(prots):\n",
    "        print(p)"
   ]
  },
  {
   "cell_type": "code",
   "execution_count": 3,
   "metadata": {},
   "outputs": [
    {
     "name": "stdout",
     "output_type": "stream",
     "text": [
      "MQSLYDGLDRMFNMGENS\n",
      "MDI\n",
      "MNLTAHPIHDGPNHGHIAIFSITSRVGAEGWSRHISTLQTNVRPPLRDEVYAHQGDYNGTRTP\n",
      "MTIHQHEKWKYKRARSAQGPIPTGSPLHSMVLGHRNS\n",
      "MTSDVRRSVYVFAWVHCSKLSFAKRQMNLTAHPIHDGPNHGHIAIFSITSRVGAEGWSRHISTLQTNVRPPLRDEVYAHQGDYNGTRTP\n",
      "MFK\n",
      "MVRSIVYRMGREIHLTLRE\n",
      "MGREIHLTLRE\n",
      "MVIFSASGSPSRPHDIQVCPEPGIESGTECSSGSFAVSIIRRQPWA\n",
      "MFNMGENS\n",
      "ME\n",
      "MSAFGQAPQVGGSVNGEVTTPSYGDRKSISVIR\n",
      "MEKIAICPWLGPSCIGWAVRFI\n",
      "MGFPLG\n",
      "MGENS\n",
      "MVVALLCLQQKNHSSTPYLTLYLARGRPGYRVDETDSHWQKK\n",
      "MAKSLPRVTGIANQLALSDNDL\n",
      "MLTAKEPLEHSVPDSIPGSGQTWISCGRDGLPLAEKMTIHQHEKWKYKRARSAQGPIPTGSPLHSMVLGHRNS\n",
      "MSDLLCGTKYTPTRETTMVLGHRNS\n",
      "MNGHFFCQWESVSSTRYPGLPRARYRVRYGVLEWFFCCKHNKATTMGITEARGME\n",
      "MALLAVLAHIKHSIKPIIETLHNSNVILRVLK\n",
      "MVRP\n",
      "MNCELAQAPPWSGHNVQIEPCQHLDRRHRSGALSMAKSLPRVTGIANQLALSDNDL\n",
      "MAGPWRRLS\n",
      "MII\n",
      "MGITEARGME\n",
      "MGDYSIPRASVMPMVVALLCLQQKNHSSTPYLTLYLARGRPGYRVDETDSHWQKK\n",
      "MVLGHRNS\n",
      "MCRLQPSAPTREVMEKIAICPWLGPSCIGWAVRFI\n",
      "MDLTMDI\n",
      "MSMVRSIVYRMGREIHLTLRE\n",
      "MPMVVALLCLQQKNHSSTPYLTLYLARGRPGYRVDETDSHWQKK\n",
      "MHPGEDVHTATHVRGHYLITLIDLRSP\n",
      "M\n",
      "MLTWFYLNIMAGPWRRLS\n",
      "MEIQESPFSPRTYPNGKPITQYGTRTP\n"
     ]
    }
   ],
   "source": [
    "record = list(SeqIO.parse(\"rosalind_orf.txt\", \"fasta\"))[0]\n",
    "s = record.seq\n",
    "cs = Seq.reverse_complement(record.seq)\n",
    "orf(s, cs)"
   ]
  }
 ],
 "metadata": {
  "kernelspec": {
   "display_name": "Python 3",
   "language": "python",
   "name": "python3"
  },
  "language_info": {
   "codemirror_mode": {
    "name": "ipython",
    "version": 3
   },
   "file_extension": ".py",
   "mimetype": "text/x-python",
   "name": "python",
   "nbconvert_exporter": "python",
   "pygments_lexer": "ipython3",
   "version": "3.8.3"
  }
 },
 "nbformat": 4,
 "nbformat_minor": 4
}
