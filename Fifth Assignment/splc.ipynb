{
 "cells": [
  {
   "cell_type": "markdown",
   "metadata": {},
   "source": [
    "## Bioinformatics\n",
    "## Principles of Computer Science II\n",
    "### Alessandro Giulivo\n",
    "### Student Number: 1906520\n",
    "#### Fifth Assignment: Rosalind Problems\n",
    "#### \"RNA Splicing\""
   ]
  },
  {
   "cell_type": "code",
   "execution_count": 1,
   "metadata": {},
   "outputs": [],
   "source": [
    "from Bio.Seq import Seq"
   ]
  },
  {
   "cell_type": "code",
   "execution_count": 2,
   "metadata": {},
   "outputs": [],
   "source": [
    "def splc(s, introns):\n",
    "    for intron in introns:\n",
    "        s = s.replace(intron, '')\n",
    "    dna_seq = Seq(s)\n",
    "    prot = dna_seq.translate(to_stop = True)\n",
    "    return(prot)"
   ]
  },
  {
   "cell_type": "code",
   "execution_count": 3,
   "metadata": {},
   "outputs": [
    {
     "name": "stdout",
     "output_type": "stream",
     "text": [
      "MDGLQCSNEFLIAVLRNPGVVSGDILNPRPRLLQATTCARRCGQVRWRRERTANSQVRIIGYSAMSHPGLLGKFSLIGLRESKLCALTMTQAAEVLIMNHSQVEPDQLSLRGRRQLVKRGLRTQAAPAQSFQAQDTRAHQRFCRNSSHEADKKLILEGLDTVAVRLCDRYTRAAHRLSPGRNCKGNPLPKRRSRSRS\n"
     ]
    }
   ],
   "source": [
    "with open('rosalind_splc.txt', 'r') as f:\n",
    "    introns = []\n",
    "    f = f.read().split('>')[1:]\n",
    "    s = str(f[0]).split('\\n', 1)[1].replace('\\n', '')\n",
    "    for i in range(1, len(f)):\n",
    "        intron = f[i].split('\\n', 1)[1].replace('\\n', '')\n",
    "        introns.append(intron)\n",
    "    print(splc(s, introns))"
   ]
  }
 ],
 "metadata": {
  "kernelspec": {
   "display_name": "Python 3",
   "language": "python",
   "name": "python3"
  },
  "language_info": {
   "codemirror_mode": {
    "name": "ipython",
    "version": 3
   },
   "file_extension": ".py",
   "mimetype": "text/x-python",
   "name": "python",
   "nbconvert_exporter": "python",
   "pygments_lexer": "ipython3",
   "version": "3.8.3"
  }
 },
 "nbformat": 4,
 "nbformat_minor": 4
}
