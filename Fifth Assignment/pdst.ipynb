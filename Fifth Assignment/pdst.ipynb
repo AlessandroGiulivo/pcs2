{
 "cells": [
  {
   "cell_type": "markdown",
   "metadata": {},
   "source": [
    "## Bioinformatics\n",
    "## Principles of Computer Science II\n",
    "### Alessandro Giulivo\n",
    "### Student Number: 1906520\n",
    "#### Fifth Assignment: Rosalind Problems\n",
    "#### \"Creating a Distance Matrix\""
   ]
  },
  {
   "cell_type": "code",
   "execution_count": 1,
   "metadata": {},
   "outputs": [],
   "source": [
    "from Bio import SeqIO"
   ]
  },
  {
   "cell_type": "code",
   "execution_count": 2,
   "metadata": {},
   "outputs": [],
   "source": [
    "def pdst(collection):\n",
    "    for s1 in collection:\n",
    "        for s2 in collection:\n",
    "            c = 0\n",
    "            for i in range(len(s1)):\n",
    "                if s1[i] != s2[i]:\n",
    "                    c += 1\n",
    "            print(c/len(s1), end = ' ')\n",
    "        print('\\n', end = '')"
   ]
  },
  {
   "cell_type": "code",
   "execution_count": 3,
   "metadata": {},
   "outputs": [
    {
     "name": "stdout",
     "output_type": "stream",
     "text": [
      "0.0 0.30959752321981426 0.49019607843137253 0.6171310629514963 0.586171310629515 0.31166150670794635 0.5583075335397317 0.3498452012383901 \n",
      "0.30959752321981426 0.0 0.5624355005159959 0.6594427244582043 0.6150670794633643 0.46439628482972134 0.6439628482972136 0.4984520123839009 \n",
      "0.49019607843137253 0.5624355005159959 0.0 0.4716202270381837 0.32920536635706915 0.5686274509803921 0.30959752321981426 0.3219814241486068 \n",
      "0.6171310629514963 0.6594427244582043 0.4716202270381837 0.0 0.30340557275541796 0.6625386996904025 0.5851393188854489 0.5655314757481941 \n",
      "0.586171310629515 0.6150670794633643 0.32920536635706915 0.30340557275541796 0.0 0.628482972136223 0.4850361197110423 0.47781217750258 \n",
      "0.31166150670794635 0.46439628482972134 0.5686274509803921 0.6625386996904025 0.628482972136223 0.0 0.6068111455108359 0.4726522187822497 \n",
      "0.5583075335397317 0.6439628482972136 0.30959752321981426 0.5851393188854489 0.4850361197110423 0.6068111455108359 0.0 0.46852425180598556 \n",
      "0.3498452012383901 0.4984520123839009 0.3219814241486068 0.5655314757481941 0.47781217750258 0.4726522187822497 0.46852425180598556 0.0 \n"
     ]
    }
   ],
   "source": [
    "collection = []\n",
    "for record in SeqIO.parse('rosalind_pdst.txt', 'fasta'):\n",
    "    collection.append(record.seq)\n",
    "pdst(collection)"
   ]
  }
 ],
 "metadata": {
  "kernelspec": {
   "display_name": "Python 3",
   "language": "python",
   "name": "python3"
  },
  "language_info": {
   "codemirror_mode": {
    "name": "ipython",
    "version": 3
   },
   "file_extension": ".py",
   "mimetype": "text/x-python",
   "name": "python",
   "nbconvert_exporter": "python",
   "pygments_lexer": "ipython3",
   "version": "3.8.3"
  }
 },
 "nbformat": 4,
 "nbformat_minor": 4
}
