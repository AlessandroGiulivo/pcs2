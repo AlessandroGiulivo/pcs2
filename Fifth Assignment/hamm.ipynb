{
 "cells": [
  {
   "cell_type": "markdown",
   "metadata": {},
   "source": [
    "## Bioinformatics\n",
    "## Principles of Computer Science II\n",
    "### Alessandro Giulivo\n",
    "### Student Number: 1906520\n",
    "#### Fifth Assignment: Rosalind Problems\n",
    "#### \"Counting Point Mutations\""
   ]
  },
  {
   "cell_type": "code",
   "execution_count": 1,
   "metadata": {},
   "outputs": [],
   "source": [
    "def hamm(s1, s2):\n",
    "    c = 0\n",
    "    for i in range(len(s1)):\n",
    "        if s1[i] != s2[i]:\n",
    "            c += 1\n",
    "    return(c)"
   ]
  },
  {
   "cell_type": "code",
   "execution_count": 2,
   "metadata": {},
   "outputs": [
    {
     "name": "stdout",
     "output_type": "stream",
     "text": [
      "503\n"
     ]
    }
   ],
   "source": [
    "with open('rosalind_hamm.txt', 'r') as f:\n",
    "    f = f.read().split('\\n')\n",
    "    s1, s2 = f[0], f[1]\n",
    "    print(hamm(s1, s2))"
   ]
  }
 ],
 "metadata": {
  "kernelspec": {
   "display_name": "Python 3",
   "language": "python",
   "name": "python3"
  },
  "language_info": {
   "codemirror_mode": {
    "name": "ipython",
    "version": 3
   },
   "file_extension": ".py",
   "mimetype": "text/x-python",
   "name": "python",
   "nbconvert_exporter": "python",
   "pygments_lexer": "ipython3",
   "version": "3.8.3"
  }
 },
 "nbformat": 4,
 "nbformat_minor": 4
}
