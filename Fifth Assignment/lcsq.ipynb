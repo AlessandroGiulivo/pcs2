{
 "cells": [
  {
   "cell_type": "markdown",
   "metadata": {},
   "source": [
    "## Bioinformatics\n",
    "## Principles of Computer Science II\n",
    "### Alessandro Giulivo\n",
    "### Student Number: 1906520\n",
    "#### Fifth Assignment: Rosalind Problems\n",
    "#### \"Finding a Shared Spliced Motif\""
   ]
  },
  {
   "cell_type": "code",
   "execution_count": 1,
   "metadata": {},
   "outputs": [],
   "source": [
    "from Bio import SeqIO"
   ]
  },
  {
   "cell_type": "code",
   "execution_count": 46,
   "metadata": {},
   "outputs": [],
   "source": [
    "def lcsq(s1, s2):\n",
    "    matrix = [[0 for j in range(len(s2)+1)] for i in range(len(s1)+1)]\n",
    "    for i, x in enumerate(s1):\n",
    "        for j, y in enumerate(s2):\n",
    "            if x == y:\n",
    "                matrix[i+1][j+1] = matrix[i][j]+1\n",
    "            else:\n",
    "                matrix[i+1][j+1] = max(matrix[i+1][j] , matrix[i][j+1])\n",
    "    sseq = ''\n",
    "    p = len(s1)\n",
    "    q = len(s2)\n",
    "    while p * q != 0:\n",
    "        if matrix[p][q] == matrix[p-1][q]:\n",
    "            p -=1\n",
    "        elif matrix[p][q] == matrix[p][q-1]:\n",
    "            q -=1\n",
    "        else:\n",
    "            sseq += s1[p - 1]\n",
    "            p -= 1\n",
    "            q -= 1\n",
    "    print(sseq[::-1])"
   ]
  },
  {
   "cell_type": "code",
   "execution_count": 47,
   "metadata": {},
   "outputs": [
    {
     "name": "stdout",
     "output_type": "stream",
     "text": [
      "GCGGTGTATTTTTAGCTTACTCCCAAGGTGCTCCCCCTTAAACGTTTCTGAAGCAGAGGATATTAGGAGACGGAATACCTGATCCGAGTTGTATCCTACTTCAGCCACTAGTTTGGTCAGCGCGTGGATTGCCCCCTGTAGTTTTCCCCTCGAAGTATGTAGCCTGATCTAGGTCCCTAGATGCGGAGCGCGCGGGCGACTTTCGTAGTTGCGTTCTCAAAGAGATGTCGTGCGGGGGCAAAAGACGGGATAGATCTGCCCCCTGAGAAGGCATAGTGCGTGCCATTGAACACGCCCCGAGGTGCTCCTGTGAAGCTTAAATAAAGACATACATGCCTGCGATTATTAAAAAGACTTTCACACTGTGGAAGGGAACCCTTCACCAACAAGGAGAGATGCTACACTCCAATTCTAAGCGAAGATATTGAAGGTATTAAGAGCTTATTTGGCTTAAAGGCAAACATACAGCTAGCCAGATTTCCGGGACGGCCAATAATCAATGAAACTGCTTGATTATTATCAGTAGTGTGAACTTTCTCTGAAGCGCACCCTTCGGGAAGGGGCAGCACCTTCTGTAGTTGTCTCAAGCTCC\n"
     ]
    }
   ],
   "source": [
    "records = list(SeqIO.parse(\"rosalind_lcsq.txt\", \"fasta\"))\n",
    "s1 = records[0].seq\n",
    "s2 = records[1].seq\n",
    "l = len(s1)\n",
    "lcsq(s1, s2)"
   ]
  }
 ],
 "metadata": {
  "kernelspec": {
   "display_name": "Python 3",
   "language": "python",
   "name": "python3"
  },
  "language_info": {
   "codemirror_mode": {
    "name": "ipython",
    "version": 3
   },
   "file_extension": ".py",
   "mimetype": "text/x-python",
   "name": "python",
   "nbconvert_exporter": "python",
   "pygments_lexer": "ipython3",
   "version": "3.8.3"
  }
 },
 "nbformat": 4,
 "nbformat_minor": 4
}
