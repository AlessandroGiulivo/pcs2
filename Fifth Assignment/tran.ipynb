{
 "cells": [
  {
   "cell_type": "markdown",
   "metadata": {},
   "source": [
    "## Bioinformatics\n",
    "## Principles of Computer Science II\n",
    "### Alessandro Giulivo\n",
    "### Student Number: 1906520\n",
    "#### Fifth Assignment: Rosalind Problems\n",
    "#### \"Transitions and Transversions\""
   ]
  },
  {
   "cell_type": "code",
   "execution_count": 1,
   "metadata": {},
   "outputs": [],
   "source": [
    "transitions = [['A', 'G'], ['C', 'T']]\n",
    "transversions = [['A', 'C'], ['A', 'T'], ['C', 'G'], ['G', 'T']]"
   ]
  },
  {
   "cell_type": "code",
   "execution_count": 2,
   "metadata": {},
   "outputs": [],
   "source": [
    "def tran(s1, s2):\n",
    "    transitions_count = 0\n",
    "    transversions_count = 0\n",
    "    for i in range(len(s1)):\n",
    "        if s1[i] != s2[i]:\n",
    "            if sorted([s1[i], s2[i]]) in transitions:\n",
    "                transitions_count += 1\n",
    "            elif sorted([s1[i], s2[i]]) in transversions:\n",
    "                transversions_count += 1\n",
    "    return(transitions_count/transversions_count)"
   ]
  },
  {
   "cell_type": "code",
   "execution_count": 3,
   "metadata": {},
   "outputs": [
    {
     "name": "stdout",
     "output_type": "stream",
     "text": [
      "2.185567010309278\n"
     ]
    }
   ],
   "source": [
    "with open('rosalind_tran.txt', 'r') as f:\n",
    "    f = f.read().split('>')[1:]\n",
    "    s1 = f[0].split('\\n', 1)[1].replace('\\n', '')\n",
    "    s2 = f[1].split('\\n', 1)[1].replace('\\n', '')\n",
    "    print(tran(s1, s2))\n",
    "   # print(s2)"
   ]
  }
 ],
 "metadata": {
  "kernelspec": {
   "display_name": "Python 3",
   "language": "python",
   "name": "python3"
  },
  "language_info": {
   "codemirror_mode": {
    "name": "ipython",
    "version": 3
   },
   "file_extension": ".py",
   "mimetype": "text/x-python",
   "name": "python",
   "nbconvert_exporter": "python",
   "pygments_lexer": "ipython3",
   "version": "3.8.3"
  }
 },
 "nbformat": 4,
 "nbformat_minor": 4
}
