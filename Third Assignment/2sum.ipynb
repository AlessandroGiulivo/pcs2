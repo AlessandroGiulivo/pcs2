{
 "cells": [
  {
   "cell_type": "markdown",
   "metadata": {},
   "source": [
    "## Bioinformatics\n",
    "## Principles of Computer Science II\n",
    "### Alessandro Giulivo\n",
    "### Student Number: 1906520\n",
    "#### Third Assignment: Rosalind Problems\n",
    "#### \"2SUM\""
   ]
  },
  {
   "cell_type": "code",
   "execution_count": 7,
   "metadata": {},
   "outputs": [],
   "source": [
    "def twosum(f):\n",
    "    for line in f[1:]:\n",
    "        k = [-1]\n",
    "        l = list(map(int, line.split()))\n",
    "        for x in l:\n",
    "            if x != 0 and -1*x in l:\n",
    "                k = [l.index(x)+1, l.index(-1*x)+1]\n",
    "                break\n",
    "            elif x == 0 and l.count(0) > 1:\n",
    "                zi1 = l.index(0)\n",
    "                zi2 = l.index(0, zi1+1)\n",
    "                k = [zi1+1, zi2+1]\n",
    "                break\n",
    "            else:\n",
    "                None\n",
    "        if len(k) == 2:\n",
    "            print(*sorted(k))"
   ]
  },
  {
   "cell_type": "code",
   "execution_count": 8,
   "metadata": {},
   "outputs": [
    {
     "name": "stdout",
     "output_type": "stream",
     "text": [
      "1983 2219\n",
      "3 7182\n",
      "1720 4648\n",
      "6 1352\n",
      "1235 2992\n",
      "2 4732\n",
      "2706 7023\n",
      "1 5004\n",
      "2 2796\n",
      "5 4838\n",
      "3292 8034\n",
      "4 5380\n",
      "4883 7541\n",
      "383 1283\n"
     ]
    }
   ],
   "source": [
    "f = open('rosalind_2sum.txt', 'r')\n",
    "f = f.readlines()\n",
    "tsum(f)"
   ]
  }
 ],
 "metadata": {
  "kernelspec": {
   "display_name": "Python 3",
   "language": "python",
   "name": "python3"
  },
  "language_info": {
   "codemirror_mode": {
    "name": "ipython",
    "version": 3
   },
   "file_extension": ".py",
   "mimetype": "text/x-python",
   "name": "python",
   "nbconvert_exporter": "python",
   "pygments_lexer": "ipython3",
   "version": "3.8.3"
  }
 },
 "nbformat": 4,
 "nbformat_minor": 4
}
