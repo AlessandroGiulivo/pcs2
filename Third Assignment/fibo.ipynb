{
 "cells": [
  {
   "cell_type": "markdown",
   "metadata": {},
   "source": [
    "## Bioinformatics\n",
    "## Principles of Computer Science II\n",
    "### Alessandro Giulivo\n",
    "### Student Number: 1906520\n",
    "#### Third Assignment: Rosalind Problems\n",
    "#### \"Fibonacci Numbers\""
   ]
  },
  {
   "cell_type": "code",
   "execution_count": 11,
   "metadata": {},
   "outputs": [
    {
     "name": "stdout",
     "output_type": "stream",
     "text": [
      "25\n",
      "75025\n"
     ]
    }
   ],
   "source": [
    "n = int(input())\n",
    "def fib(n):\n",
    "    prev = 1\n",
    "    curr = 0\n",
    "    for i in range(n):\n",
    "        p = curr\n",
    "        curr = curr + prev\n",
    "        prev = p\n",
    "    return(curr)\n",
    "\n",
    "print(fib(n))"
   ]
  }
 ],
 "metadata": {
  "kernelspec": {
   "display_name": "Python 3",
   "language": "python",
   "name": "python3"
  },
  "language_info": {
   "codemirror_mode": {
    "name": "ipython",
    "version": 3
   },
   "file_extension": ".py",
   "mimetype": "text/x-python",
   "name": "python",
   "nbconvert_exporter": "python",
   "pygments_lexer": "ipython3",
   "version": "3.8.3"
  }
 },
 "nbformat": 4,
 "nbformat_minor": 4
}
