{
 "cells": [
  {
   "cell_type": "markdown",
   "metadata": {},
   "source": [
    "## Bioinformatics\n",
    "## Principles of Computer Science II\n",
    "### Alessandro Giulivo\n",
    "### Student Number: 1906520\n",
    "#### Third Assignment: Rosalind Problems\n",
    "#### \"Majority Element\""
   ]
  },
  {
   "cell_type": "code",
   "execution_count": 7,
   "metadata": {},
   "outputs": [],
   "source": [
    "def maj(f):\n",
    "    kn = list(map(int, f[0].split()))\n",
    "    k = int(kn[0])\n",
    "    n = int(kn[1])\n",
    "    for line in f[1:k+1]:\n",
    "        e = -1\n",
    "        line = list(map(int, line.split()))\n",
    "        for c in line:\n",
    "            if line.count(c) > n//2:\n",
    "                e = c\n",
    "        print(e, end = ' ')"
   ]
  },
  {
   "cell_type": "code",
   "execution_count": 8,
   "metadata": {},
   "outputs": [
    {
     "name": "stdout",
     "output_type": "stream",
     "text": [
      "8602 2554 -1 2050 7930 -1 4807 3990 4910 6490 -1 2936 1535 4957 -1 4017 -1 -1 -1 -1 "
     ]
    }
   ],
   "source": [
    "f = open('rosalind_maj.txt', 'r')\n",
    "f = f.readlines()\n",
    "maj(f)"
   ]
  }
 ],
 "metadata": {
  "kernelspec": {
   "display_name": "Python 3",
   "language": "python",
   "name": "python3"
  },
  "language_info": {
   "codemirror_mode": {
    "name": "ipython",
    "version": 3
   },
   "file_extension": ".py",
   "mimetype": "text/x-python",
   "name": "python",
   "nbconvert_exporter": "python",
   "pygments_lexer": "ipython3",
   "version": "3.8.3"
  }
 },
 "nbformat": 4,
 "nbformat_minor": 4
}
