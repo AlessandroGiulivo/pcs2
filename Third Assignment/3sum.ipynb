{
 "cells": [
  {
   "cell_type": "markdown",
   "metadata": {},
   "source": [
    "## Bioinformatics\n",
    "## Principles of Computer Science II\n",
    "### Alessandro Giulivo\n",
    "### Student Number: 1906520\n",
    "#### Third Assignment: Rosalind Problems\n",
    "#### \"3SUM\""
   ]
  },
  {
   "cell_type": "code",
   "execution_count": 3,
   "metadata": {},
   "outputs": [],
   "source": [
    "def twosum(A, t):\n",
    "    td = {}\n",
    "    for i in range(len(A)):\n",
    "        if A[i] in td:\n",
    "            return (td[A[i]]+1, i+1)\n",
    "        else:\n",
    "            td[t-A[i]] = i\n",
    "    return -1\n",
    "\n",
    "def threesum(A):\n",
    "    for i in range(len(A)):\n",
    "        r = twosum(A[i+1:], -A[i])\n",
    "        if r != -1:\n",
    "            k = sorted([i+1, i+1+r[0], i+1+r[1]])\n",
    "            return k\n",
    "    return [-1]"
   ]
  },
  {
   "cell_type": "code",
   "execution_count": 4,
   "metadata": {},
   "outputs": [
    {
     "name": "stdout",
     "output_type": "stream",
     "text": [
      "-1\n",
      "-1\n",
      "1 95 250\n",
      "-1\n",
      "8897 9635 9837\n",
      "1 57 60\n",
      "-1\n",
      "1 122 181\n",
      "-1\n",
      "-1\n",
      "1 8 167\n",
      "4997 8858 9601\n",
      "1 60 200\n"
     ]
    }
   ],
   "source": [
    "f = open('rosalind_3sum.txt', 'r')\n",
    "f = f.readlines()\n",
    "for line in f[1:]:\n",
    "    A = list(map(int, line.split(' ')))\n",
    "    print(*threesum(A))"
   ]
  }
 ],
 "metadata": {
  "kernelspec": {
   "display_name": "Python 3",
   "language": "python",
   "name": "python3"
  },
  "language_info": {
   "codemirror_mode": {
    "name": "ipython",
    "version": 3
   },
   "file_extension": ".py",
   "mimetype": "text/x-python",
   "name": "python",
   "nbconvert_exporter": "python",
   "pygments_lexer": "ipython3",
   "version": "3.8.3"
  }
 },
 "nbformat": 4,
 "nbformat_minor": 4
}
