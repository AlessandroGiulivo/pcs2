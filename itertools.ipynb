{
 "cells": [
  {
   "cell_type": "markdown",
   "metadata": {},
   "source": [
    "# Bioinformatics\n",
    "### Principles of Computer Science II\n",
    "#### Alessandro Giulivo\n",
    "#### Student Number: 1906520\n",
    "#### First Assignement: HackerRank Challenges\n",
    "#### Itertools"
   ]
  },
  {
   "cell_type": "code",
   "execution_count": null,
   "metadata": {},
   "outputs": [],
   "source": [
    "# 1) itertools.product()\n",
    "from itertools import product\n",
    "import sys\n",
    "inp = []\n",
    "for line in sys.stdin.readlines():\n",
    "    l = []\n",
    "    for c in line.split():\n",
    "            l.append(int(c))\n",
    "    inp.append(l)\n",
    "print(*list(product(inp[0], inp[1])))"
   ]
  },
  {
   "cell_type": "code",
   "execution_count": null,
   "metadata": {},
   "outputs": [],
   "source": [
    "# 2) itertools.permutations()\n",
    "from itertools import permutations\n",
    "import sys\n",
    "for e in sys.stdin:\n",
    "    inp = e.split(' ')\n",
    "for i in list(permutations(sorted(inp[0]), int(inp[1]))):\n",
    "    print(''.join(i))"
   ]
  },
  {
   "cell_type": "code",
   "execution_count": null,
   "metadata": {},
   "outputs": [],
   "source": [
    "# 3) itertools.combinations()\n",
    "from itertools import combinations\n",
    "import sys\n",
    "for e in sys.stdin:\n",
    "    inp = e.split(' ')\n",
    "for k in range(int(inp[1])+1):\n",
    "    for i in list(combinations(sorted(inp[0]), k)):\n",
    "        if len(i)>0:\n",
    "            print(''.join(i))"
   ]
  },
  {
   "cell_type": "code",
   "execution_count": null,
   "metadata": {},
   "outputs": [],
   "source": [
    "# 4) itertools.combinations_with_replacement()\n",
    "from itertools import combinations_with_replacement\n",
    "import sys\n",
    "for e in sys.stdin:\n",
    "    inp = e.split(' ')\n",
    "for i in list(combinations_with_replacement(sorted(inp[0]), int(inp[1]))):\n",
    "    print(''.join(i))"
   ]
  },
  {
   "cell_type": "code",
   "execution_count": null,
   "metadata": {},
   "outputs": [],
   "source": [
    "# 5) Compress the String!\n",
    "from itertools import groupby\n",
    "import sys\n",
    "line = sys.stdin.read()\n",
    "l = []\n",
    "for k, g in groupby(line):\n",
    "    l.append(tuple([len(list(g)), int(k)]))\n",
    "print(*l)"
   ]
  },
  {
   "cell_type": "code",
   "execution_count": null,
   "metadata": {},
   "outputs": [],
   "source": [
    "# 6) Iterables and Iterators\n",
    "from itertools import combinations\n",
    "\n",
    "N = int(input())\n",
    "line = input().split()\n",
    "K = int(input())\n",
    "c_l = list(combinations(line ,K))\n",
    "a_c = 0\n",
    "for c in c_l:\n",
    "    if 'a' in c:\n",
    "        a_c += 1\n",
    "print(round(a_c/len(c_l), 3))"
   ]
  }
 ],
 "metadata": {
  "kernelspec": {
   "display_name": "Python 3",
   "language": "python",
   "name": "python3"
  },
  "language_info": {
   "codemirror_mode": {
    "name": "ipython",
    "version": 3
   },
   "file_extension": ".py",
   "mimetype": "text/x-python",
   "name": "python",
   "nbconvert_exporter": "python",
   "pygments_lexer": "ipython3",
   "version": "3.8.3"
  }
 },
 "nbformat": 4,
 "nbformat_minor": 4
}
