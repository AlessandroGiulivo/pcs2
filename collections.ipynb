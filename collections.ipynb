{
 "cells": [
  {
   "cell_type": "markdown",
   "metadata": {},
   "source": [
    "# Bioinformatics\n",
    "### Principles of Computer Science II\n",
    "#### Alessandro Giulivo\n",
    "#### Student Number: 1906520\n",
    "#### First Assignment: HackerRank Challenges\n",
    "#### Collections"
   ]
  },
  {
   "cell_type": "code",
   "execution_count": null,
   "metadata": {},
   "outputs": [],
   "source": [
    "# 1)collections.Counter()\n",
    "X = int(input())\n",
    "size_list = input().split()\n",
    "N = int(input())\n",
    "money = 0\n",
    "for i in range(N):\n",
    "    size, price = map(int, input().split())\n",
    "    if str(size) in size_list:\n",
    "        money += price\n",
    "        size_list.remove(str(size))\n",
    "print(money)"
   ]
  },
  {
   "cell_type": "code",
   "execution_count": null,
   "metadata": {},
   "outputs": [],
   "source": [
    "# 2) DefaultDict Tutorial\n",
    "from collections import defaultdict\n",
    "d = defaultdict(list)\n",
    "n, m = map(int, input().split())\n",
    "for i in range(1, n+1):\n",
    "    d[input()].append(str(i))\n",
    "for j in range(m):\n",
    "    print(' '.join(d[input()]) or -1)"
   ]
  },
  {
   "cell_type": "code",
   "execution_count": null,
   "metadata": {},
   "outputs": [],
   "source": [
    "# 3)Collections .namedtuple()\n",
    "from collections import namedtuple\n",
    "N = int(input())\n",
    "columns = input().split()\n",
    "sum = 0\n",
    "for n in range(N):\n",
    "     students = namedtuple('student', columns)\n",
    "     column1, column2, column3, column4 = input().split()\n",
    "     student = students(column1, column2, column3, column4)\n",
    "     sum += int(student.MARKS)\n",
    "print(sum/N)"
   ]
  },
  {
   "cell_type": "code",
   "execution_count": null,
   "metadata": {},
   "outputs": [],
   "source": [
    "# 4) Collections .ordereddict()\n",
    "from collections import OrderedDict\n",
    "n = int(input())\n",
    "odict = OrderedDict()\n",
    "for i in range(n):\n",
    "    item_price = input().split()\n",
    "    item = ' '.join(item_price[: -1])\n",
    "    price = int(item_price[-1])\n",
    "    if item not in odict:\n",
    "        odict[item] = price\n",
    "    else:\n",
    "        odict[item] += price\n",
    "for item, net_price in odict.items():\n",
    "    print(item, net_price)"
   ]
  },
  {
   "cell_type": "code",
   "execution_count": null,
   "metadata": {},
   "outputs": [],
   "source": [
    "# 5) Word Order\n",
    "from collections import OrderedDict\n",
    "N = int(input())\n",
    "d = OrderedDict()\n",
    "for n in range(N):\n",
    "    word = str(input())\n",
    "    if word not in d:\n",
    "        d[word] = 1\n",
    "    else:\n",
    "        d[word] += 1\n",
    "print(len(d))\n",
    "print(*d.values())"
   ]
  },
  {
   "cell_type": "code",
   "execution_count": null,
   "metadata": {},
   "outputs": [],
   "source": [
    "# 6) Collections .deque()\n",
    "N = int(input())\n",
    "lines = []\n",
    "for line in range(N):\n",
    "    line = list(input().split())\n",
    "    lines.append(line)\n",
    "d = deque()\n",
    "for i in range(len(lines)):\n",
    "    if 'append' in lines[i]:\n",
    "        d.append(int(lines[i][1]))\n",
    "    if 'pop' in lines[i]:\n",
    "        d.pop()\n",
    "    if 'popleft' in lines[i]:\n",
    "        d.popleft()\n",
    "    if 'appendleft' in lines[i]:\n",
    "        d.appendleft(int(lines[i][1]))\n",
    "print(*d)"
   ]
  },
  {
   "cell_type": "code",
   "execution_count": null,
   "metadata": {},
   "outputs": [],
   "source": [
    "# 7) Company Logo\n",
    "from collections import OrderedDict\n",
    "d = OrderedDict()\n",
    "l = []\n",
    "logo = sorted(str(input()))\n",
    "for x in logo:\n",
    "    if x not in l:\n",
    "        l.append(x)\n",
    "for c in l:\n",
    "    d[c] = logo.count(c)\n",
    "for key, value in (sorted(d.items(), key = lambda x: x[1], reverse = True))[:3]:\n",
    "    print(key, value)"
   ]
  },
  {
   "cell_type": "code",
   "execution_count": null,
   "metadata": {},
   "outputs": [],
   "source": [
    "# 8) Piling Up!\n",
    "T = int(input())\n",
    "for i in range(T):\n",
    "    n = int(input())\n",
    "    l1 = []\n",
    "    for i in input().split():\n",
    "        l1.append(int(i))\n",
    "    if l1[0] >= l1[-1]:\n",
    "        last = l1[0]\n",
    "        l1.pop(0)\n",
    "    else:\n",
    "        last = l1[-1]\n",
    "        l1.pop(-1)\n",
    "    for x in range(0, len(l1)):\n",
    "        if l1[0] >= l1[-1] and l1[0] <= last:\n",
    "            last = l1[0]\n",
    "            l1.pop(0)\n",
    "        elif l1[0] < l1[-1] and l1[-1] <= last:\n",
    "            last = l1[-1]\n",
    "            l1.pop(-1)\n",
    "        else: None\n",
    "    if len(l1) == 0:\n",
    "        print('Yes')\n",
    "    elif len(l1) > 0:\n",
    "        print('No')"
   ]
  }
 ],
 "metadata": {
  "kernelspec": {
   "display_name": "Python 3",
   "language": "python",
   "name": "python3"
  },
  "language_info": {
   "codemirror_mode": {
    "name": "ipython",
    "version": 3
   },
   "file_extension": ".py",
   "mimetype": "text/x-python",
   "name": "python",
   "nbconvert_exporter": "python",
   "pygments_lexer": "ipython3",
   "version": "3.8.3"
  }
 },
 "nbformat": 4,
 "nbformat_minor": 4
}
