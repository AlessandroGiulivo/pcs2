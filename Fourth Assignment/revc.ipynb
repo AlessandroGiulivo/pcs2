{
 "cells": [
  {
   "cell_type": "markdown",
   "metadata": {},
   "source": [
    "## Bioinformatics\n",
    "## Principles of Computer Science II\n",
    "### Alessandro Giulivo\n",
    "### Student Number: 1906520\n",
    "#### Fourth Assignment: Rosalind Problems\n",
    "#### \"Complementing a String of DNA\""
   ]
  },
  {
   "cell_type": "code",
   "execution_count": 5,
   "metadata": {},
   "outputs": [],
   "source": [
    "def revc(s):\n",
    "    cs = ''\n",
    "    for c in s[::-1]:\n",
    "        if c == 'A':\n",
    "            cs += 'T'\n",
    "        if c == 'C':\n",
    "            cs += 'G'\n",
    "        if c == 'G':\n",
    "            cs += 'C'\n",
    "        if c == 'T':\n",
    "            cs += 'A'\n",
    "    return cs"
   ]
  },
  {
   "cell_type": "code",
   "execution_count": 6,
   "metadata": {},
   "outputs": [
    {
     "name": "stdout",
     "output_type": "stream",
     "text": [
      "CAACTGTGTACGTGATCCGGACCCAAACTAGTGCCGCGCGAAATGCGAGTGATGACAGTCCCAGAATTTCCTAGACTTGAACAACAAAGAGTCCGGCATCGAGCCCCCACTCTAATTCGCGCATTGTTGCAGAAGAATTCTGCAGGCCGCCGCGACAGGTGAGAGCCGAGACATATGTGAGTTCGAAGAGTTGTTGGATAAAAATGAGGATACATTGTGGCACGCGCGCATGCTTAATTATCCCCATGTACGGCGGCACCACGATCCGTACTGCTCGATTCCCGCCGAAGAGGGCGTTCTCTAGGTAGTGGCCCGCAAAGTCTTCCCATTGAAAGAACTAATCTGAGACAGAACACCAGCAACTGGGGGTGCACTTCAAATACTCGCCCGCCGTCCGCTTCCCGTCTTTGTAGCACTATCTTGCGGCAAGTACCCAATACCATTGTGGCTTTGCCCGGTGAGTCAAACGGATCCTGTTAATGTGCTGTGGCTCGGTAAGGTGAAGCTTCATCTTAAAACTCGGTATGGAGGAAGAGCCAAGATGCAGGCCAATCTAGGGCTCCCGAACTACTGACCAGGAACGACTGAAAATTGGTGACAGCCCCGCCCTGTAAACTCCCATTGACTCGATACGGTGCCTATTGAGGGCAACTCTTGCGGAGATCAACGGAATATCGGGGATCTTAAAAGAGCCCAGGGTGATTCTATCCCGGATAGTTACATGGCGGTTCGCGGCTCGTTCGAACGTGCATCAATACGAAAGTTTTCTCGATAGCTTTCAACACACGATGCATTCCCAAAGTTAGATACGATAAGTTGAGATGAAGCTGCGGTAGACCAGTCTGAGGTACCCGACGACTATTGGGACACATTGCGGCCAGGGTATCGCATCCATTCGAATCTGTTGTATAAGCAAGGAATGTACGCGTATGAGCCTCTT\n"
     ]
    }
   ],
   "source": [
    "with open('rosalind_revc.txt', 'r') as f:\n",
    "    s = f.read()\n",
    "    print(revc(s))"
   ]
  }
 ],
 "metadata": {
  "kernelspec": {
   "display_name": "Python 3",
   "language": "python",
   "name": "python3"
  },
  "language_info": {
   "codemirror_mode": {
    "name": "ipython",
    "version": 3
   },
   "file_extension": ".py",
   "mimetype": "text/x-python",
   "name": "python",
   "nbconvert_exporter": "python",
   "pygments_lexer": "ipython3",
   "version": "3.8.3"
  }
 },
 "nbformat": 4,
 "nbformat_minor": 4
}
