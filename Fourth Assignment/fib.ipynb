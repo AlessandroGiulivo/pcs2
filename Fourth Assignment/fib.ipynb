{
 "cells": [
  {
   "cell_type": "markdown",
   "metadata": {},
   "source": [
    "## Bioinformatics\n",
    "## Principles of Computer Science II\n",
    "### Alessandro Giulivo\n",
    "### Student Number: 1906520\n",
    "#### Fourth Assignment: Rosalind Problems\n",
    "#### \"Rabbits and Recurrence Relations\""
   ]
  },
  {
   "cell_type": "code",
   "execution_count": 15,
   "metadata": {},
   "outputs": [],
   "source": [
    "def fib(n, k):\n",
    "    p = 1\n",
    "    c = 1\n",
    "    for i in range(n-2):\n",
    "        nc  = k*p + c\n",
    "        p = c\n",
    "        c = nc\n",
    "    print(c)"
   ]
  },
  {
   "cell_type": "code",
   "execution_count": 17,
   "metadata": {},
   "outputs": [
    {
     "name": "stdout",
     "output_type": "stream",
     "text": [
      "875089148811941\n"
     ]
    }
   ],
   "source": [
    "with open('rosalind_fib.txt', 'r') as f:\n",
    "    f = f.read()\n",
    "    f = list(map(int, f.split()))\n",
    "    n, k = f[0], f[1]\n",
    "    fib(n, k)"
   ]
  }
 ],
 "metadata": {
  "kernelspec": {
   "display_name": "Python 3",
   "language": "python",
   "name": "python3"
  },
  "language_info": {
   "codemirror_mode": {
    "name": "ipython",
    "version": 3
   },
   "file_extension": ".py",
   "mimetype": "text/x-python",
   "name": "python",
   "nbconvert_exporter": "python",
   "pygments_lexer": "ipython3",
   "version": "3.8.3"
  }
 },
 "nbformat": 4,
 "nbformat_minor": 4
}
