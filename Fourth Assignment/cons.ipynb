{
 "cells": [
  {
   "cell_type": "markdown",
   "metadata": {},
   "source": [
    "## Bioinformatics\n",
    "## Principles of Computer Science II\n",
    "### Alessandro Giulivo\n",
    "### Student Number: 1906520\n",
    "#### Fourth Assignment: Rosalind Problems\n",
    "#### \"Consensus and Profile\""
   ]
  },
  {
   "cell_type": "code",
   "execution_count": 52,
   "metadata": {},
   "outputs": [],
   "source": [
    "def cons(collection):\n",
    "    prof = {}\n",
    "    prof['A'] = []\n",
    "    prof['C'] = []\n",
    "    prof['G'] = []\n",
    "    prof['T'] = []\n",
    "    for j in range(len(collection[0])):\n",
    "        Acount = 0\n",
    "        Ccount = 0\n",
    "        Gcount = 0\n",
    "        Tcount = 0\n",
    "        for s in collection:\n",
    "            if s[j] == 'A':\n",
    "                Acount += 1\n",
    "            elif s[j] == 'C':\n",
    "                Ccount += 1\n",
    "            elif s[j] == 'G':\n",
    "                Gcount += 1\n",
    "            elif s[j] == 'T':\n",
    "                Tcount += 1\n",
    "        prof['A'].append(Acount)\n",
    "        prof['C'].append(Ccount)\n",
    "        prof['G'].append(Gcount)\n",
    "        prof['T'].append(Tcount)\n",
    "    cons = ''\n",
    "    for k in range(len(prof['A'])):\n",
    "        n = ''\n",
    "        m = 0\n",
    "        for key, value in prof.items():\n",
    "            if value[k] > m:\n",
    "                m = value[k]\n",
    "                n = key\n",
    "            else: None\n",
    "        cons += n\n",
    "    print(cons)\n",
    "    for key, value in prof.items():\n",
    "        print(str(key) + ':', *value)"
   ]
  },
  {
   "cell_type": "code",
   "execution_count": 53,
   "metadata": {},
   "outputs": [
    {
     "name": "stdout",
     "output_type": "stream",
     "text": [
      "CCCCCCCCGCTGAGCGGCGGAAGACTAGCAAGTGGCACCGCGCGGAAGCGGGGAGTGGGCCGAAGACAAACACGATCCCCAAACGATTACGGATTGTCACCCGACCACACCTGCAGATCCGCAGAGAGTTATGACGCAATGAGTCAGAGCGAACTGGCAGACTTGGGGAATGCGTGATCCTCGTGCGGTTTCGACAGATCATCGAGCAAATAGATCAACCGACGGCCGAACTCAAAGGGCATGACCCACATGATAAGACAGGCCTACGAAACTACGTGCCTTACAAAAGCGGAAGGAAGGCTGGACCATACGACTGAGACTTAATCGCTTCTCAACCCCAATAAGCGGCAGAGACACGGACCATCCACCCACCCCAGACAAATCTACCCCCACCAGAACTTTCGCGGCACTGGTGGAGCAGACTCCAACCGGTCCTGGTCCTAAATCTAGTAACAATCCAAGTAACACAGCCGAACCGTCAGACAAGACACGATGCGCTCATTCTGTAAAGGAAGGGCCATCAAGAAGATAGGGAGCCGAGCCTAAGCCATGAGGCACGATCCAAGTCTGAATTACACACACCATTAAATCTACCTCATAAACTCCTCGACTAATCTCGATCTCAGTAAAGTCGATAGTCTGTGGCATTAGACGCACTACACCCAGGAGCTCGATAGCTAGATCGCGTCATCCACTAGCACATGGTATTAACCTACCCCCCATCCACAAGAATCCATCATCCTTGTAAGAGGAATAAACACTAAAACCACAGAAGGACGATACCCCTAATTCGGACTGACACCTTCTAGCGTGGATAATCGAGAAAATTCACGACGGAAACAATATACACGAAAAGGAAGGAACGCACAGCGTCAACCACATATGGTCTAGGTAGGTCTCGTGATACACCTGCTCATGTAGGAAAGCAAACAGGAATCAAATGCGTACAAGATGTAAGATGAAAACACGAAGTCTCTGAAGTCACACAGT\n",
      "A: 1 2 0 2 1 2 2 2 1 0 2 1 3 2 1 1 2 1 0 3 4 4 2 3 2 3 7 1 0 4 3 2 3 2 3 0 4 2 2 3 0 2 2 1 2 4 3 2 2 1 3 3 0 4 1 2 2 1 2 1 2 1 6 3 3 3 1 5 4 3 1 3 3 2 5 2 1 1 3 2 3 4 4 1 0 4 2 2 4 2 3 1 5 2 2 2 1 0 4 2 3 1 2 3 1 2 4 2 4 3 1 2 1 2 4 2 3 2 2 3 2 1 3 3 3 2 3 1 2 2 6 0 1 3 1 2 3 3 3 3 2 3 2 1 3 3 3 4 3 1 3 3 4 2 2 2 0 2 3 2 3 0 1 2 2 2 3 2 3 5 1 2 1 2 1 2 3 3 2 1 1 1 3 1 1 2 2 1 1 1 1 3 3 4 0 3 3 5 0 1 3 1 2 2 3 3 3 3 3 3 2 3 0 3 2 1 3 4 2 3 1 4 2 0 1 1 2 3 4 5 2 2 3 4 3 3 2 1 2 1 6 2 3 4 1 2 3 4 1 4 1 2 5 3 4 3 1 4 2 4 4 3 0 4 2 4 2 1 3 5 4 1 1 5 2 2 2 1 2 1 3 1 3 2 3 5 4 4 3 1 3 3 4 4 1 1 3 5 1 1 2 2 2 1 4 3 2 3 2 5 1 1 3 2 3 4 3 2 4 1 0 3 4 3 1 3 2 3 2 2 2 3 0 5 3 3 1 3 1 3 4 3 3 4 2 3 2 2 2 3 3 4 3 4 2 3 2 3 1 5 0 2 4 3 1 2 5 2 2 1 6 2 0 2 3 3 2 5 2 3 4 3 1 2 1 4 3 2 1 2 2 4 2 1 3 1 4 3 2 0 2 3 3 2 1 2 1 2 4 1 0 1 2 0 3 0 5 3 3 4 3 7 2 2 3 2 4 4 2 1 3 2 2 2 1 1 3 2 2 1 0 1 4 3 4 1 0 3 5 2 2 4 3 2 4 5 2 2 0 3 3 1 1 4 5 2 3 2 4 4 3 2 1 5 4 3 2 1 3 2 5 2 4 3 3 5 1 4 3 4 3 2 3 1 2 1 0 1 1 2 7 1 3 1 1 1 3 5 3 4 1 0 5 3 2 2 3 1 3 4 0 3 4 3 1 3 5 2 3 2 3 2 1 3 3 4 0 1 2 3 3 2 2 2 3 3 1 1 2 4 3 0 3 0 1 2 3 1 3 4 3 0 2 3 5 2 1 1 2 3 3 3 4 2 5 2 3 2 4 0 4 3 2 3 2 1 5 4 3 1 2 2 4 2 1 1 3 5 1 4 3 4 2 2 3 2 3 1 3 4 2 1 5 4 0 3 3 0 1 4 2 2 1 2 3 2 1 4 4 6 1 2 3 2 3 0 5 3 1 1 2 1 1 1 1 2 4 3 2 3 2 4 3 2 2 3 1 2 3 2 6 1 2 0 4 1 2 5 2 2 2 2 3 4 2 3 2 3 2 6 3 6 3 0 0 1 3 1 2 3 1 1 1 3 1 3 5 2 1 3 2 4 1 2 1 1 5 1 1 3 3 0 2 1 4 2 1 2 0 2 0 3 2 3 3 3 2 3 5 0 5 3 2 0 2 5 3 2 5 2 3 2 1 2 2 1 5 3 1 4 2 2 4 4 0 3 3 4 3 5 1 2 4 7 4 3 3 1 3 2 3 1 4 4 3 1 3 2 2 4 1 4 2 2 0 0 2 3 6 1 1 4 2 3 3 1 1 1 3 1 5 1 2 1 1 2 2 3 3 1 3 2 1 2 6 1 4 4 2 2 2 4 2 3 3 4 3 0 2 1 4 2 3 3 1 0 2 3 4 5 2 4 3 1 4 2 3 0 3 2 2 3 4 4 3 2 2 3 3 1 3 7 4 2 0 2 4 2 3 2 3 3 2 2 7 4 0 1 3 2 4 1 4 1 2 2 2 1 2 4 2 3 3 5 3 2 1 3 0 2 2 3 2 5 1 3 1 5 2 2 2 1 2 3 1 4 3 1 2 4 1 1 5 4 3 1 2 4 3 3 4 4 2 2 3 4 0 2 4 3 4 3 1 2 0 2 3 2 4 6 1 5 1 2 2 4 4 1 4 0 1 4 3 3 4 3 4 0 2 3 4 2 1 3 2 0 1 3 3 5 2 1 1 4 3 3 3 4 3 3\n",
      "C: 3 4 7 3 3 3 3 4 3 4 1 2 3 2 6 3 2 4 3 1 3 3 2 1 3 2 1 3 5 1 2 2 2 2 2 6 1 3 4 1 7 2 6 3 2 2 1 0 3 2 1 2 2 1 1 1 2 3 2 6 3 4 1 3 1 3 3 2 1 3 4 2 4 2 0 2 4 6 4 4 3 1 3 6 3 2 1 1 4 3 1 1 1 3 2 2 3 4 3 3 5 5 2 2 3 6 2 3 4 4 5 2 2 3 4 1 3 1 3 4 2 3 2 1 2 3 3 1 3 3 1 3 1 3 4 2 4 3 2 2 2 3 1 2 4 2 1 4 1 5 1 2 3 4 1 2 3 3 1 1 2 5 2 2 3 2 2 2 3 1 1 2 4 3 2 2 3 2 4 7 3 3 1 3 0 6 1 0 2 3 2 4 2 1 4 2 2 2 3 4 2 2 4 2 2 1 4 3 2 2 1 3 2 3 2 5 3 2 4 4 3 3 5 2 2 4 3 2 3 2 4 2 4 1 3 2 2 3 3 3 0 1 2 2 3 3 4 2 4 3 2 1 2 2 4 3 1 1 4 1 1 1 6 5 2 3 5 2 1 1 2 5 2 2 3 1 3 2 5 5 2 2 3 5 2 0 4 1 2 4 0 1 2 1 1 2 3 2 1 3 3 1 2 2 1 6 3 3 3 3 3 1 2 4 2 1 2 3 3 3 3 2 2 2 3 4 2 4 2 1 6 1 5 1 3 4 4 4 4 2 1 1 1 1 2 4 2 3 4 2 1 4 2 1 3 1 3 3 3 1 4 3 1 2 3 4 2 3 4 4 0 4 5 4 4 3 2 1 5 2 0 2 2 3 3 3 5 4 3 4 3 1 5 5 1 3 2 2 3 3 2 1 4 2 4 1 1 4 3 3 3 3 2 0 1 3 1 3 5 4 2 0 3 3 4 3 0 1 4 4 2 0 1 3 4 2 3 2 1 5 4 2 2 2 3 3 6 0 1 0 2 3 3 3 1 1 1 4 4 3 3 0 3 3 2 5 2 4 3 0 4 4 3 0 0 4 3 3 0 3 1 2 1 4 3 1 2 2 4 1 4 2 3 2 1 5 1 5 2 4 3 1 3 4 3 3 2 1 2 1 2 3 0 1 1 1 1 3 4 2 1 4 3 3 2 3 1 2 1 3 2 3 3 1 3 0 5 6 2 3 1 5 3 2 1 1 3 5 3 1 3 2 1 2 3 5 2 5 1 3 1 4 4 3 1 3 3 3 1 2 2 3 1 3 1 3 2 4 1 4 2 4 3 3 1 2 2 0 3 2 3 2 4 6 3 3 4 1 3 2 2 2 4 1 5 4 2 3 1 1 3 2 1 1 3 4 1 5 2 3 2 3 1 4 3 3 2 0 2 0 2 2 4 1 3 3 1 2 2 3 3 2 0 2 2 3 1 2 3 1 3 0 4 2 3 3 4 1 2 3 1 3 5 4 3 3 2 1 2 4 2 3 3 2 2 3 2 4 0 1 2 1 1 4 3 4 2 0 4 3 3 4 4 2 3 1 2 2 4 2 3 2 2 2 2 2 2 3 3 3 3 5 4 3 1 4 6 4 5 4 6 2 3 4 4 3 4 3 1 0 3 3 3 4 4 2 1 3 1 3 4 4 2 2 2 1 3 1 3 2 2 2 3 2 4 1 1 3 5 1 3 2 2 0 2 3 4 4 2 5 2 1 1 1 2 2 3 3 2 1 3 2 3 4 4 6 1 2 0 3 2 5 2 2 3 5 2 2 3 4 0 4 7 2 2 4 2 2 1 3 1 1 3 2 1 3 3 3 3 3 3 1 1 2 3 3 2 2 2 5 1 4 2 3 5 2 2 2 1 2 3 3 2 2 4 1 2 4 2 3 2 3 2 2 3 1 2 2 2 2 3 0 2 3 3 4 2 4 2 2 4 2 2 4 2 3 6 4 3 3 2 4 4 2 2 0 2 5 3 2 2 2 0 2 0 1 2 5 2 3 3 1 2 2 3 3 3 1 7 4 2 1 4 2 4 0 1 1 0 3 2 2 1 1 2 3 3 2 2 3 5 3 1 2 3 1 2 3 2 1 2 3 2 3 3 1 3 5 2 1 2 1 3 2 1 2 3 3 2 3 1 3 3 2 3 5 1 6 1 3 2 2 1 5 2 6 2 0 3 2 2 2 4 0 4 2 4 1 1 2\n",
      "G: 3 2 2 3 3 2 3 2 4 3 1 5 3 4 1 4 4 2 4 4 1 2 4 3 3 1 1 5 4 3 2 3 1 3 4 2 2 3 3 4 1 3 1 5 4 3 3 4 3 4 4 5 6 4 6 2 3 5 3 2 3 5 3 3 5 2 3 1 3 1 4 3 2 6 2 2 3 2 2 3 3 3 1 1 4 2 2 2 1 3 4 4 4 1 2 3 1 2 2 3 0 3 5 2 3 0 4 3 0 1 2 1 4 2 1 5 3 1 3 1 3 3 3 4 2 4 2 5 1 1 0 3 5 2 1 5 2 2 3 1 4 3 4 1 1 3 4 1 4 3 5 2 1 2 3 4 5 2 3 4 2 4 2 2 4 3 4 4 3 0 1 4 4 4 2 4 2 1 3 2 1 3 4 1 5 0 5 5 3 2 3 1 4 3 3 3 4 0 3 1 3 3 0 3 2 4 1 2 3 2 1 1 6 3 2 1 3 2 1 1 4 1 2 5 4 3 2 4 3 2 1 2 3 3 2 3 3 6 4 3 1 3 4 1 3 3 2 1 2 2 2 4 1 1 0 2 4 1 0 2 5 4 1 1 2 1 2 5 3 2 0 2 1 2 2 4 1 4 1 1 1 3 3 2 2 4 2 2 4 4 4 5 3 3 4 4 2 2 5 4 3 0 3 4 3 1 3 2 1 1 3 4 2 2 1 5 2 4 3 3 1 1 3 2 2 3 3 2 2 3 0 2 3 1 3 2 3 1 2 2 3 2 3 1 5 1 5 4 2 2 4 1 5 1 2 3 2 4 4 3 3 3 1 1 3 1 1 2 2 2 1 3 2 3 2 1 3 2 2 2 4 3 1 3 2 2 1 3 3 3 2 2 2 3 3 4 3 2 3 3 2 2 3 4 4 5 5 4 2 3 3 4 5 3 6 4 3 4 1 0 5 2 2 1 0 3 3 3 1 4 4 5 3 2 4 3 4 3 3 2 3 2 2 3 0 2 2 3 1 5 1 0 3 2 2 1 3 2 3 1 1 6 1 0 3 2 2 0 1 5 1 1 5 4 4 1 2 4 2 2 2 3 1 2 2 3 4 2 2 4 2 4 3 3 4 3 5 2 2 2 0 3 0 4 0 6 1 2 3 4 5 5 2 3 4 4 5 3 1 1 3 2 1 2 4 3 0 3 3 1 2 4 6 4 1 5 3 1 4 2 4 3 3 2 3 3 4 3 3 4 0 6 3 5 4 0 2 3 4 2 2 2 2 3 0 4 2 3 1 4 2 1 0 1 2 2 3 1 2 3 3 2 2 1 3 1 2 3 1 3 2 1 1 1 3 1 1 4 2 1 3 4 0 3 1 4 1 3 4 4 2 0 2 4 1 1 2 3 5 1 1 3 3 3 1 4 3 3 2 2 5 2 1 4 2 1 1 5 2 3 1 4 4 5 6 2 3 0 1 3 4 4 3 4 3 2 3 3 3 3 1 3 0 3 1 5 4 0 5 1 2 3 4 2 2 2 4 0 3 2 4 2 2 4 5 3 4 3 4 2 1 3 4 2 3 0 1 6 3 2 2 2 1 4 4 1 1 2 2 2 2 1 2 2 3 1 3 4 4 2 3 2 1 1 1 1 1 1 1 7 1 3 1 4 0 1 0 3 1 0 2 2 3 2 4 3 0 3 5 3 5 3 0 3 1 3 3 0 1 1 3 2 3 1 3 1 2 1 3 1 2 5 2 3 4 4 2 2 5 1 2 1 2 0 2 1 3 3 3 1 3 1 4 4 2 4 1 6 3 3 3 3 0 3 0 3 2 3 4 3 4 2 5 4 2 2 2 2 1 2 4 2 6 3 1 2 3 3 1 1 1 2 4 3 2 7 3 3 4 2 2 1 3 2 1 2 3 2 3 3 4 3 1 3 1 4 3 3 2 4 4 0 2 2 4 2 3 3 2 5 0 4 2 1 0 1 2 3 1 2 2 0 0 3 3 5 1 1 1 2 3 4 3 1 5 4 3 1 3 3 4 1 5 1 2 1 3 4 0 2 1 5 0 0 3 4 1 5 2 3 4 4 2 4 2 6 2 2 3 1 0 1 4 4 2 2 3 3 2 3 2 0 5 2 4 2 3 2 4 0 4 3 2 5 1 3 1 4 2 2 5 1 1 2 0 1 3 2 5 1 2 3 3 1 2 1 3 4 1 2 5 3 3 3 2 3 2 3 4 1\n",
      "T: 3 2 1 2 3 3 2 2 2 3 6 2 1 2 2 2 2 3 3 2 2 1 2 3 2 4 1 1 1 2 3 3 4 3 1 2 3 2 1 2 2 3 1 1 2 1 3 4 2 3 2 0 2 1 2 5 3 1 3 1 2 0 0 1 1 2 3 2 2 3 1 2 1 0 3 4 2 1 1 1 1 2 2 2 3 2 5 5 1 2 2 4 0 4 4 3 5 4 1 2 2 1 1 3 3 2 0 2 2 2 2 5 3 3 1 2 1 6 2 2 3 3 2 2 3 1 2 3 4 4 3 4 3 2 4 1 1 2 2 4 2 1 3 6 2 2 2 1 2 1 1 3 2 2 4 2 2 3 3 3 3 1 5 4 1 3 1 2 1 4 7 2 1 1 5 2 2 4 1 0 5 3 2 5 4 2 2 4 4 4 4 2 1 2 3 2 1 3 4 4 2 4 4 3 3 2 2 2 2 3 6 3 2 1 4 3 1 2 3 2 2 2 1 3 3 2 3 1 0 1 3 4 0 2 2 2 3 0 1 3 3 4 1 3 3 2 1 3 3 1 5 3 2 4 2 2 4 4 4 3 0 2 3 0 4 2 1 2 3 2 4 2 6 1 3 3 4 3 2 3 4 4 1 1 3 1 0 3 1 1 3 1 1 2 4 3 2 1 3 2 2 7 3 3 2 0 2 2 4 1 3 4 3 2 4 0 3 1 0 3 6 4 1 3 4 0 3 1 4 4 2 4 2 3 1 1 2 2 3 3 2 4 3 4 1 2 1 1 2 3 2 1 0 4 3 3 3 0 2 1 3 2 4 4 3 3 2 3 2 3 3 1 3 1 1 3 3 2 1 3 2 2 6 2 4 1 1 1 3 1 3 3 1 1 3 2 1 3 2 4 4 4 0 2 1 2 3 0 1 3 4 2 1 7 0 3 1 0 1 2 0 1 3 4 3 2 3 2 3 1 1 3 4 3 1 4 0 3 4 2 3 5 2 2 3 4 2 4 3 3 5 3 1 3 3 3 4 2 3 3 3 3 5 3 0 1 3 4 2 1 2 3 1 1 2 2 3 2 5 3 2 3 4 1 2 1 3 2 1 1 1 2 1 4 3 1 4 2 5 2 0 5 4 1 6 0 4 2 2 1 2 2 3 3 3 3 1 3 2 3 6 1 2 2 3 1 4 3 3 4 3 1 0 2 3 1 2 2 2 2 2 0 2 4 3 3 2 1 2 1 4 2 3 3 2 3 3 1 2 1 4 4 2 1 4 1 4 3 6 1 3 3 5 4 2 3 2 3 3 3 1 1 3 3 4 6 1 3 3 4 3 5 1 1 3 5 2 0 4 3 2 0 4 4 1 0 4 3 2 1 3 7 2 1 6 2 4 2 2 2 5 2 5 1 3 1 4 3 2 2 2 4 2 3 2 6 3 0 5 3 4 3 5 2 1 3 2 5 4 3 1 2 0 2 2 2 2 4 2 2 2 3 3 3 2 1 2 4 1 3 4 2 0 2 4 2 2 3 5 1 1 1 4 2 2 2 1 6 0 2 5 2 1 3 3 6 2 0 2 3 3 2 6 2 3 6 2 4 4 2 2 4 2 4 2 3 0 0 1 2 1 3 4 2 2 3 3 3 3 3 1 1 4 2 4 2 6 2 3 5 1 2 4 4 2 5 2 3 1 1 1 3 3 1 5 3 3 3 1 3 3 4 1 2 1 3 1 4 2 2 3 3 3 2 1 3 2 3 1 4 4 3 3 4 4 3 4 2 1 5 4 0 2 1 2 0 6 1 1 2 2 2 1 4 7 1 4 2 2 3 2 5 1 2 1 4 1 1 4 3 1 3 1 2 3 1 2 5 5 3 4 2 1 1 2 1 3 2 1 1 3 2 2 5 1 5 2 4 2 2 2 1 3 1 3 3 3 2 3 3 0 3 2 3 3 2 1 1 3 1 3 1 4 3 1 2 2 2 3 3 2 5 2 4 3 3 5 3 4 2 3 1 4 2 2 3 4 1 5 2 1 5 1 2 4 3 3 0 1 2 5 3 4 5 2 2 5 3 6 0 3 3 2 1 3 0 3 2 2 3 1 2 3 2 2 3 5 2 2 3 2 4 2 3 3 5 1 1 0 3 3 1 4 1 6 1 2 2 2 5 3 2 3 3 3 1 2 2 2 3 2 3 5 1 4 3 4 3 3 1 1 4 2 3 1 2 1 2 2 4\n"
     ]
    }
   ],
   "source": [
    "with open('rosalind_cons.txt', 'r') as f:\n",
    "    collection = []\n",
    "    f = f.read().split('>')[1:]\n",
    "    for i in range(len(f)):\n",
    "        line = f[i].split('\\n', 1)\n",
    "        s = line[1].replace('\\n', '')\n",
    "        collection.append(s)\n",
    "    cons(collection)"
   ]
  },
  {
   "cell_type": "code",
   "execution_count": null,
   "metadata": {},
   "outputs": [],
   "source": []
  }
 ],
 "metadata": {
  "kernelspec": {
   "display_name": "Python 3",
   "language": "python",
   "name": "python3"
  },
  "language_info": {
   "codemirror_mode": {
    "name": "ipython",
    "version": 3
   },
   "file_extension": ".py",
   "mimetype": "text/x-python",
   "name": "python",
   "nbconvert_exporter": "python",
   "pygments_lexer": "ipython3",
   "version": "3.8.3"
  }
 },
 "nbformat": 4,
 "nbformat_minor": 4
}
