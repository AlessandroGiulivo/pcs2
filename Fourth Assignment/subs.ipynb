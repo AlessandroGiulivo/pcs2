{
 "cells": [
  {
   "cell_type": "markdown",
   "metadata": {},
   "source": [
    "## Bioinformatics\n",
    "## Principles of Computer Science II\n",
    "### Alessandro Giulivo\n",
    "### Student Number: 1906520\n",
    "#### Fourth Assignment: Rosalind Problems\n",
    "#### \"Consensus and Profile\""
   ]
  },
  {
   "cell_type": "code",
   "execution_count": 20,
   "metadata": {},
   "outputs": [],
   "source": [
    "def subs(s, t):\n",
    "    r = []\n",
    "    i = s.find(t)\n",
    "    while i != -1:\n",
    "        r.append(i+1)\n",
    "        j = s.find(t, i+1)\n",
    "        i = j\n",
    "    return r"
   ]
  },
  {
   "cell_type": "code",
   "execution_count": 21,
   "metadata": {},
   "outputs": [
    {
     "name": "stdout",
     "output_type": "stream",
     "text": [
      "5 20 43 67 75 110 143 218 266 296 320 344 400 443 450 493 518 525 550 618 625 632 640 673 717 724 731 738 768 833 881 933 949 972 979\n"
     ]
    }
   ],
   "source": [
    "with open('rosalind_subs.txt', 'r') as f:\n",
    "    f = f.readlines()\n",
    "    s = f[0].replace('\\n', '')\n",
    "    t = f[1].replace('\\n', '')\n",
    "    print(*subs(s, t))"
   ]
  }
 ],
 "metadata": {
  "kernelspec": {
   "display_name": "Python 3",
   "language": "python",
   "name": "python3"
  },
  "language_info": {
   "codemirror_mode": {
    "name": "ipython",
    "version": 3
   },
   "file_extension": ".py",
   "mimetype": "text/x-python",
   "name": "python",
   "nbconvert_exporter": "python",
   "pygments_lexer": "ipython3",
   "version": "3.8.3"
  }
 },
 "nbformat": 4,
 "nbformat_minor": 4
}
