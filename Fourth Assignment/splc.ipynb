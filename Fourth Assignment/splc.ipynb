{
 "cells": [
  {
   "cell_type": "markdown",
   "metadata": {},
   "source": [
    "## Bioinformatics\n",
    "## Principles of Computer Science II\n",
    "### Alessandro Giulivo\n",
    "### Student Number: 1906520\n",
    "#### Fourth Assignment: Rosalind Problems\n",
    "#### \"RNA Splicing\""
   ]
  },
  {
   "cell_type": "code",
   "execution_count": 48,
   "metadata": {},
   "outputs": [],
   "source": [
    "def splice(gene, introns):\n",
    "    for i in introns:\n",
    "        if i in gene:\n",
    "            gene = gene.replace(i, '')\n",
    "    return gene"
   ]
  },
  {
   "cell_type": "code",
   "execution_count": 49,
   "metadata": {},
   "outputs": [],
   "source": [
    "codon_table = {'AAA': 'K', 'AAC': 'N', 'AAG': 'K', 'AAT': 'N', 'ACA': 'T', 'ACC': 'T', 'ACG': 'T', 'ACT': 'T',\n",
    "               'AGA': 'R', 'AGC': 'S', 'AGG': 'R', 'AGT': 'S', 'ATA': 'I', 'ATC': 'I', 'ATG': 'M', 'ATT': 'I',\n",
    "               'CAA': 'Q', 'CAC': 'H', 'CAG': 'Q', 'CAT': 'H', 'CCA': 'P', 'CCC': 'P', 'CCG': 'P', 'CCT': 'P',\n",
    "               'CGA': 'R', 'CGC': 'R', 'CGG': 'R', 'CGT': 'R', 'CTA': 'L', 'CTC': 'L', 'CTG': 'L', 'CTT': 'L',\n",
    "               'GAA': 'E', 'GAC': 'D', 'GAG': 'E', 'GAT': 'D', 'GCA': 'A', 'GCC': 'A', 'GCG': 'A', 'GCT': 'A',\n",
    "               'GGA': 'G', 'GGC': 'G', 'GGG': 'G', 'GGT': 'G', 'GTA': 'V', 'GTC': 'V', 'GTG': 'V', 'GTT': 'V',\n",
    "               'TAA': 'stop', 'TAC': 'Y', 'TAG': 'stop', 'TAT': 'Y', 'TCA': 'S', 'TCC': 'S', 'TCG': 'S', 'TCT': 'S',\n",
    "               'TGA': 'stop', 'TGC': 'C', 'TGG': 'W', 'TGT': 'C', 'TTA': 'L', 'TTC': 'F', 'TTG': 'L', 'TTT': 'F'}"
   ]
  },
  {
   "cell_type": "code",
   "execution_count": 50,
   "metadata": {},
   "outputs": [],
   "source": [
    "def tranlsate(gene):\n",
    "    gene = splice(gene, introns)\n",
    "    protein = ''\n",
    "    for j in range(0, len(gene), 3):\n",
    "        codon = gene[j:j+3]\n",
    "        if len(codon) == 3 and codon_table[codon] != 'stop':\n",
    "            protein += codon_table[codon]\n",
    "        else:\n",
    "            break\n",
    "    print(protein)"
   ]
  },
  {
   "cell_type": "code",
   "execution_count": 51,
   "metadata": {},
   "outputs": [
    {
     "name": "stdout",
     "output_type": "stream",
     "text": [
      "MSPSWPPEHLFRPKEVRHERQGVWPLRQTPGAPWNNARMSTWKHDPRTDLNYLTNEVCTATLRPRFPVSSRGSVRTKIELHSLGKVVVIYVSLTSRERYRKRNTYSILLSGAYDAECQSHRIRQMSLGEGTHSVAICPGFDSNMCLNGPCSQRICRLALTGTPNCSLRIHLSTVRLFQLEGASRQAVVR\n"
     ]
    }
   ],
   "source": [
    "with open('rosalind_splc.txt', 'r') as f:\n",
    "    introns = []\n",
    "    f = f.read().split('>')[1:]\n",
    "    gene = str(f[0]).split('\\n', 1)[1].replace('\\n', '')\n",
    "    for i in range(1, len(f)):\n",
    "        line = f[i].split('\\n', 1)\n",
    "        s = line[1].replace('\\n', '')\n",
    "        introns.append(s)\n",
    "    tranlsate(gene)"
   ]
  },
  {
   "cell_type": "code",
   "execution_count": null,
   "metadata": {},
   "outputs": [],
   "source": []
  }
 ],
 "metadata": {
  "kernelspec": {
   "display_name": "Python 3",
   "language": "python",
   "name": "python3"
  },
  "language_info": {
   "codemirror_mode": {
    "name": "ipython",
    "version": 3
   },
   "file_extension": ".py",
   "mimetype": "text/x-python",
   "name": "python",
   "nbconvert_exporter": "python",
   "pygments_lexer": "ipython3",
   "version": "3.8.3"
  }
 },
 "nbformat": 4,
 "nbformat_minor": 4
}
