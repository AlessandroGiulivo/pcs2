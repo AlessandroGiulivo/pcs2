{
 "cells": [
  {
   "cell_type": "markdown",
   "metadata": {},
   "source": [
    "## Bioinformatics\n",
    "## Principles of Computer Science II\n",
    "### Alessandro Giulivo\n",
    "### Student Number: 1906520\n",
    "#### Fourth Assignment: Rosalind Problems\n",
    "#### \"Longest Increasing Subsequence\""
   ]
  },
  {
   "cell_type": "code",
   "execution_count": 1,
   "metadata": {},
   "outputs": [],
   "source": [
    "def lgis(pi):\n",
    "    incr = []\n",
    "    decr = []\n",
    "    for (i,x) in enumerate(pi):\n",
    "        incr.append(max([incr[j] for (j, y) in enumerate(pi[:i]) if y < x] or [[]], key=len) + [x])\n",
    "    for (i,x) in enumerate(pi):\n",
    "        decr.append(max([decr[j] for (j, y) in enumerate(pi[:i]) if y > x] or [[]], key=len) + [x])\n",
    "    print(*max(incr, key=len))\n",
    "    print(*max(decr, key=len))"
   ]
  },
  {
   "cell_type": "code",
   "execution_count": 4,
   "metadata": {},
   "outputs": [
    {
     "name": "stdout",
     "output_type": "stream",
     "text": [
      "294 482 643 673 739 778 792 874 1057 1140 1208 1220 1308 1371 1404 1454 1481 1543 1659 1824 1940 2070 2205 2213 2285 2287 2304 2407 2432 2531 2536 2580 2633 2788 2805 2807 2815 2924 2979 3008 3054 3076 3080 3113 3189 3194 3259 3275 3300 3363 3377 3385 3386 3409 3451 3746 3784 3839 3840 3847 3856 3911 3920 3958 4009 4090 4091 4118 4119 4135 4221 4232 4247 4248 4252 4271 4362 4407 4408 4496 4534 4580 4591 4660 4757 4762 4816 4855 4926 4943 4948 5005 5083 5196 5257 5284 5325 5352 5371 5379 5395 5517 5557 5558 5580 5614 5636 5638 5639 5693 5702 5755 5816 5824 5864 5881 5983 6073 6092 6111 6119 6296 6364 6402 6407 6444 6534 6586 6675 6720 6793 6799 6814 6854 6991 7019 7032 7061 7092 7230 7250 7259 7279 7329 7363 7371 7413 7454 7536 7570 7670 7732 7753 7755 7791 7856 7892 7893 7900 7903 7951 7965 7992 7996 8029 8058 8067 8078 8095 8110 8122 8127 8133 8226 8257 8323 8346 8368 8409 8578 8639 8652\n",
      "8604 8599 8488 8406 8316 8276 8269 8242 7920 7901 7850 7843 7793 7720 7717 7694 7668 7654 7608 7378 7310 7290 7267 7221 7187 7144 7139 7127 7097 7015 6986 6969 6963 6956 6951 6801 6786 6755 6721 6716 6680 6677 6653 6636 6578 6522 6441 6411 6410 6196 6191 6081 6070 5974 5959 5907 5886 5876 5814 5772 5770 5737 5689 5629 5585 5581 5505 5500 5427 5380 5315 5311 5288 5235 5176 5071 4977 4966 4926 4752 4739 4493 4488 4475 4469 4458 4456 4447 4355 4303 4197 4179 4143 4072 4030 4024 3985 3957 3935 3884 3771 3634 3606 3527 3507 3496 3484 3475 3436 3374 3284 3264 3220 3165 3159 3144 3134 3102 3090 3077 2949 2899 2884 2878 2866 2797 2778 2754 2701 2699 2692 2629 2585 2571 2555 2552 2403 2263 2240 2184 2147 2094 2061 2022 1986 1969 1949 1914 1878 1767 1687 1651 1537 1456 1447 1344 1287 1285 1217 1214 1076 977 918 873 782 746 743 650 598 583 569 516 502 370 320 149 101 70 60\n"
     ]
    }
   ],
   "source": [
    "with open('rosalind_lgis.txt', 'r') as f:\n",
    "    f = f.readlines()\n",
    "    n = int(f[0])\n",
    "    pi = list(map(int, f[1].split()))\n",
    "    lgis(pi)"
   ]
  },
  {
   "cell_type": "code",
   "execution_count": null,
   "metadata": {},
   "outputs": [],
   "source": []
  }
 ],
 "metadata": {
  "kernelspec": {
   "display_name": "Python 3",
   "language": "python",
   "name": "python3"
  },
  "language_info": {
   "codemirror_mode": {
    "name": "ipython",
    "version": 3
   },
   "file_extension": ".py",
   "mimetype": "text/x-python",
   "name": "python",
   "nbconvert_exporter": "python",
   "pygments_lexer": "ipython3",
   "version": "3.8.3"
  }
 },
 "nbformat": 4,
 "nbformat_minor": 4
}
