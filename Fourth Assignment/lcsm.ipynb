{
 "cells": [
  {
   "cell_type": "markdown",
   "metadata": {},
   "source": [
    "## Bioinformatics\n",
    "## Principles of Computer Science II\n",
    "### Alessandro Giulivo\n",
    "### Student Number: 1906520\n",
    "#### Fourth Assignment: Rosalind Problems\n",
    "#### \"Finding a Shared Motif\""
   ]
  },
  {
   "cell_type": "code",
   "execution_count": 15,
   "metadata": {},
   "outputs": [],
   "source": [
    "def lcsm(collection):\n",
    "    sub = ''\n",
    "    for i in range(len(collection[0])):\n",
    "        for j in range(len(collection[0])-i+1):\n",
    "            if j > len(sub):\n",
    "                subt = True\n",
    "                for s in collection:\n",
    "                    if collection[0][i:i+j] not in s:\n",
    "                        subt = False\n",
    "                if subt == True:\n",
    "                    sub = collection[0][i:i+j]\n",
    "    print(sub)"
   ]
  },
  {
   "cell_type": "code",
   "execution_count": 19,
   "metadata": {},
   "outputs": [
    {
     "name": "stdout",
     "output_type": "stream",
     "text": [
      "CTATTCCGTCAAACTAACAGGATGCACCACGGCTTTGGCTATCGGTGTACCTAGAGACTCACGAGGTGAATTGGTCCGAGTTTATTGCAATCTACTGGTCTACACAGTTGAGCGGAGGGTGCTTGGGTCGTGTGCATAGTCAACGTCGTGGACGAACCCCCCTCCGCAATAGTGAAAAAATCCCTTTATGGTTTCCGCATTTGTCGATCGCATGGTTAGGACACCCCTTGGAGTTGCGGGGAGGTTTACGCTGAGT\n"
     ]
    }
   ],
   "source": [
    "with open('rosalind_lcsm.txt', 'r') as f:\n",
    "    collection = []\n",
    "    f = f.read().split('>')[1:]\n",
    "    for i in range(len(f)):\n",
    "        line = f[i].split('\\n', 1)\n",
    "        s = line[1].replace('\\n', '')\n",
    "        collection.append(s)\n",
    "    lcsm(collection)"
   ]
  }
 ],
 "metadata": {
  "kernelspec": {
   "display_name": "Python 3",
   "language": "python",
   "name": "python3"
  },
  "language_info": {
   "codemirror_mode": {
    "name": "ipython",
    "version": 3
   },
   "file_extension": ".py",
   "mimetype": "text/x-python",
   "name": "python",
   "nbconvert_exporter": "python",
   "pygments_lexer": "ipython3",
   "version": "3.8.3"
  }
 },
 "nbformat": 4,
 "nbformat_minor": 4
}
