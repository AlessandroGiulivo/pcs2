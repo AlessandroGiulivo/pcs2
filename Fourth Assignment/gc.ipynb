{
 "cells": [
  {
   "cell_type": "markdown",
   "metadata": {},
   "source": [
    "## Bioinformatics\n",
    "## Principles of Computer Science II\n",
    "### Alessandro Giulivo\n",
    "### Student Number: 1906520\n",
    "#### Fourth Assignment: Rosalind Problems\n",
    "#### \"Computing GC Content\""
   ]
  },
  {
   "cell_type": "code",
   "execution_count": 53,
   "metadata": {},
   "outputs": [],
   "source": [
    "def gc(f):\n",
    "    ID = ''\n",
    "    freq = 0\n",
    "    for l in f:\n",
    "        l = l.split('\\n', 1)\n",
    "        s = l[1].replace('\\n', '')\n",
    "        nfreq = float((s.count('C') + s.count('G'))/(len(s)))\n",
    "        if nfreq > freq:\n",
    "            ID = l[0]\n",
    "            freq = nfreq\n",
    "    return ID, round(freq*100, 6)"
   ]
  },
  {
   "cell_type": "code",
   "execution_count": 55,
   "metadata": {},
   "outputs": [
    {
     "name": "stdout",
     "output_type": "stream",
     "text": [
      "Rosalind_3552\n",
      "53.333333\n"
     ]
    }
   ],
   "source": [
    "with open('rosalind_gc.txt', 'r') as f:\n",
    "    f = f.read().split('>')[1:]\n",
    "  #  print(f)\n",
    "    print(gc(f)[0])\n",
    "    print(gc(f)[1])"
   ]
  }
 ],
 "metadata": {
  "kernelspec": {
   "display_name": "Python 3",
   "language": "python",
   "name": "python3"
  },
  "language_info": {
   "codemirror_mode": {
    "name": "ipython",
    "version": 3
   },
   "file_extension": ".py",
   "mimetype": "text/x-python",
   "name": "python",
   "nbconvert_exporter": "python",
   "pygments_lexer": "ipython3",
   "version": "3.8.3"
  }
 },
 "nbformat": 4,
 "nbformat_minor": 4
}
